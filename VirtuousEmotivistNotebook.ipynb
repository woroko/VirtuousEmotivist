{
 "cells": [
  {
   "cell_type": "code",
   "execution_count": 2,
   "metadata": {},
   "outputs": [],
   "source": [
    "from model import VirtuousEmotivistModel, EmotivistAgent, VirtuousAgent\n",
    "import pandas as pd\n",
    "import numpy as np\n",
    "from ipyparallel import Client\n",
    "import matplotlib.pyplot as plt\n",
    "from SALib.sample import saltelli\n",
    "from SALib.analyze import sobol"
   ]
  },
  {
   "cell_type": "code",
   "execution_count": null,
   "metadata": {},
   "outputs": [],
   "source": [
    "c = Client()\n",
    "v = c.load_balanced_view()"
   ]
  },
  {
   "cell_type": "markdown",
   "metadata": {},
   "source": [
    "# Scatter plots and histograms\n",
    "## Start local cluster with \"ipcluster start --n=10\"\n",
    "## Effect of probability of conversion on number of VirtuousAgents at step 300"
   ]
  },
  {
   "cell_type": "code",
   "execution_count": null,
   "metadata": {},
   "outputs": [],
   "source": [
    "def run_model_300(seed_x_tuple):\n",
    "    from model import VirtuousEmotivistModel, EmotivistAgent, VirtuousAgent\n",
    "    seed, prob_conversion = seed_x_tuple\n",
    "    model = VirtuousEmotivistModel(seed, 25, 25, 0.8, 0.2, 2, 3, 0.01, 8, 1, prob_conversion, 0.98, 0.0, 0.02\\\n",
    "                       , 0.3, 0.4, 0.3, 0.3, 0.4, 0.3, 1.0, 1.0, 1.0, 0.7, 0, 0, 0, 2, 0.75, 'A', 'A', 'A')\n",
    "    while model.running and model.schedule.steps < 300: #run for 300 steps\n",
    "        model.step()\n",
    "    \n",
    "    model_out = model.datacollector.get_model_vars_dataframe()\n",
    "    return model_out['virtuous_count'][300]"
   ]
  },
  {
   "cell_type": "code",
   "execution_count": null,
   "metadata": {},
   "outputs": [],
   "source": [
    "seed_val = 0\n",
    "list_x = []\n",
    "list_y = []\n",
    "for x in np.arange(0.0, 0.0205, 0.0005):\n",
    "    tuples = []\n",
    "    for seed in range(seed_val, seed_val + 10):\n",
    "        tuples.append((seed, x))\n",
    "    ret = v.map(run_model_300, tuples)\n",
    "    for val in ret:\n",
    "        list_x.append(x)\n",
    "        list_y.append(val)\n",
    "    print(str(x))\n",
    "    seed_val += 10"
   ]
  },
  {
   "cell_type": "code",
   "execution_count": null,
   "metadata": {},
   "outputs": [],
   "source": [
    "pd.set_option('display.max_rows', 350)"
   ]
  },
  {
   "cell_type": "code",
   "execution_count": null,
   "metadata": {},
   "outputs": [],
   "source": [
    "plt.style.use('seaborn-whitegrid')\n",
    "plt.rcParams['figure.figsize'] = [8, 6]"
   ]
  },
  {
   "cell_type": "code",
   "execution_count": null,
   "metadata": {},
   "outputs": [],
   "source": [
    "plt.plot(list_x, list_y, 'o', color='blue', markersize=3);\n",
    "plt.show()"
   ]
  },
  {
   "cell_type": "markdown",
   "metadata": {},
   "source": [
    "---\n",
    "### Effect of count_extra_det (number of extra-determined agents with belief A) on count of all A-believing agents\n",
    "#### count_extra_det does not increase the overall number of A-believing agents in the beginning"
   ]
  },
  {
   "cell_type": "code",
   "execution_count": null,
   "metadata": {},
   "outputs": [],
   "source": [
    "def run_model_300_det(seed_x_tuple):\n",
    "    from model import VirtuousEmotivistModel, EmotivistAgent, VirtuousAgent\n",
    "    seed, det = seed_x_tuple\n",
    "    model = VirtuousEmotivistModel(seed, 25, 25, 0.8, 0.0, 3, 3, 0.01, 8, 1, 0.0, 0.98, 0.0, 0.02\\\n",
    "                       , 0.3, 0.4, 0.3, 0.3, 0.4, 0.3, 1.0, 1.0, 1.0, 0.7, 0, det, 0, 2, 0.75, 'A', 'A', 'A')\n",
    "    while model.running and model.schedule.steps < 300: #run for 300 steps\n",
    "        model.step()\n",
    "    \n",
    "    df = model.datacollector.agent_vars[\"strongest_belief\"][-1]\n",
    "    count = 0\n",
    "    for tup in df:\n",
    "        num, belief = tup\n",
    "        if belief == 'A':\n",
    "            count += 1\n",
    "    return count"
   ]
  },
  {
   "cell_type": "code",
   "execution_count": null,
   "metadata": {
    "scrolled": true
   },
   "outputs": [],
   "source": [
    "seed_val = 0\n",
    "list_x_det = []\n",
    "list_y_det = []\n",
    "for x in np.arange(0, 70):\n",
    "    tuples = []\n",
    "    for seed in range(seed_val, seed_val + 10):\n",
    "        tuples.append((seed, x))\n",
    "    ret = v.map(run_model_300_det, tuples)\n",
    "    for val in ret:\n",
    "        list_x_det.append(x)\n",
    "        list_y_det.append(val)\n",
    "    print(str(x))\n",
    "    seed_val += 10"
   ]
  },
  {
   "cell_type": "code",
   "execution_count": null,
   "metadata": {
    "scrolled": true
   },
   "outputs": [],
   "source": [
    "plt.plot(list_x_det, list_y_det, 'o', color='blue', markersize=3);"
   ]
  },
  {
   "cell_type": "markdown",
   "metadata": {},
   "source": [
    "---\n",
    "### Effect of count_extra_pow (number of extra-powerful agents with belief A) on count of all A-believing agents\n",
    "#### count_extra_pow does not increase the overall number of A-believing agents in the beginning"
   ]
  },
  {
   "cell_type": "code",
   "execution_count": null,
   "metadata": {},
   "outputs": [],
   "source": [
    "def run_model_300_emo_power(seed_x_tuple):\n",
    "    from model import VirtuousEmotivistModel, EmotivistAgent, VirtuousAgent\n",
    "    seed, power = seed_x_tuple\n",
    "    model = VirtuousEmotivistModel(seed, 25, 25, 0.8, 0.0, 4, 4, 0.01, 8, 0, 0.0, 0.98, 0.0, 0.02\\\n",
    "                       , 0.3, 0.4, 0.3, 0.3, 0.4, 0.3, 1.0, 1.0, 1.0, 0.7, power, 0, 0, 2, 0.75, 'A', 'A', 'A')\n",
    "    #only emotivists\n",
    "    while model.running and model.schedule.steps < 300: #run for 300 steps\n",
    "        model.step()\n",
    "    \n",
    "    df = model.datacollector.agent_vars[\"strongest_belief\"][-1]\n",
    "    count = 0\n",
    "    for tup in df:\n",
    "        num, belief = tup\n",
    "        if belief == 'A':\n",
    "            count += 1\n",
    "    return count"
   ]
  },
  {
   "cell_type": "code",
   "execution_count": null,
   "metadata": {},
   "outputs": [],
   "source": [
    "seed_val = 0\n",
    "list_x_pow = []\n",
    "list_y_pow = []\n",
    "for x in np.arange(0, 70):\n",
    "    tuples = []\n",
    "    for seed in range(seed_val, seed_val + 10):\n",
    "        tuples.append((seed, x))\n",
    "    ret = v.map(run_model_300_emo_power, tuples)\n",
    "    for val in ret:\n",
    "        list_x_pow.append(x)\n",
    "        list_y_pow.append(val)\n",
    "    print(str(x))\n",
    "    seed_val += 10"
   ]
  },
  {
   "cell_type": "code",
   "execution_count": null,
   "metadata": {},
   "outputs": [],
   "source": [
    "plt.plot(list_x_pow, list_y_pow, 'o', color='blue', markersize=3);\n"
   ]
  },
  {
   "cell_type": "markdown",
   "metadata": {},
   "source": [
    "---\n",
    "### Effect of homophily on count of B-believing (majority) agents. No VirtuousAgents at all"
   ]
  },
  {
   "cell_type": "code",
   "execution_count": null,
   "metadata": {},
   "outputs": [],
   "source": [
    "def run_model_300_homophily(seed_x_tuple):\n",
    "    from model import VirtuousEmotivistModel, EmotivistAgent, VirtuousAgent\n",
    "    seed, homophily = seed_x_tuple\n",
    "    model = VirtuousEmotivistModel(seed, 25, 25, 0.8, 0.0, homophily, 2, 0.01, 8, 0, 0.0, 0.98, 0.0, 0.025\\\n",
    "                       , 0.3, 0.4, 0.3, 0.3, 0.4, 0.3, 1.0, 1.0, 1.0, 0.7, 0, 0, 0, 2, 0.75, 'A', 'A', 'A')\n",
    "    #has no virtuousagents\n",
    "    #effect of homophily on count of B (majority)\n",
    "    while model.running and model.schedule.steps < 300: #run for 300 steps\n",
    "        model.step()\n",
    "    \n",
    "    df = model.datacollector.agent_vars[\"strongest_belief\"][-1]\n",
    "    count = 0\n",
    "    for tup in df:\n",
    "        num, belief = tup\n",
    "        if belief == 'B':\n",
    "            count += 1\n",
    "    return count"
   ]
  },
  {
   "cell_type": "code",
   "execution_count": null,
   "metadata": {},
   "outputs": [],
   "source": [
    "seed_val = 0\n",
    "list_x_homophily = []\n",
    "list_y_homophily = []\n",
    "for x in np.arange(0, 9):\n",
    "    tuples = []\n",
    "    for seed in range(seed_val, seed_val + 50):\n",
    "        tuples.append((seed, x))\n",
    "    ret = v.map(run_model_300_homophily, tuples)\n",
    "    for val in ret:\n",
    "        list_x_homophily.append(x)\n",
    "        list_y_homophily.append(val)\n",
    "    print(str(x))\n",
    "    seed_val += 100 #offset should not affect results"
   ]
  },
  {
   "cell_type": "code",
   "execution_count": null,
   "metadata": {},
   "outputs": [],
   "source": [
    "plt.plot(list_x_homophily, list_y_homophily, 'o', color='blue', markersize=3);"
   ]
  },
  {
   "cell_type": "code",
   "execution_count": null,
   "metadata": {},
   "outputs": [],
   "source": [
    "##Effect of num_of_detpow with belief A on count of A at step 100, with random move prob of 0.0125"
   ]
  },
  {
   "cell_type": "code",
   "execution_count": null,
   "metadata": {},
   "outputs": [],
   "source": [
    "def run_model_100_randommove_detpow(seed_x_tuple):\n",
    "    from model import VirtuousEmotivistModel, EmotivistAgent, VirtuousAgent\n",
    "    seed, num_of_detpow = seed_x_tuple\n",
    "    model = VirtuousEmotivistModel(seed, 25, 25, 0.8, 0.0, 4, 2, 0.01, 8, 0, 0.0, 0.98, 0.0125, 0.025\\\n",
    "                       , 0.3, 0.4, 0.3, 0.32, 0.36, 0.32, 1.0, 1.0, 1.0, 0.7, 0, 0, num_of_detpow, 2, 0.75, 'A', 'A', 'A')\n",
    "    #only emotivist agents with homophily=4\n",
    "    #effect of num_of_detpow with belief A on count of A at step 100, with random move prob of 0.0125\n",
    "    #closer starting distribution of 0.32,0.36,0.32\n",
    "    # 100 steps shows results in the short term\n",
    "    while model.running and model.schedule.steps < 100: #run for 100 steps\n",
    "        model.step()\n",
    "    \n",
    "    df = model.datacollector.agent_vars[\"strongest_belief\"][-1]\n",
    "    count = 0\n",
    "    for tup in df:\n",
    "        num, belief = tup\n",
    "        if belief == 'A':\n",
    "            count += 1\n",
    "    return count"
   ]
  },
  {
   "cell_type": "code",
   "execution_count": null,
   "metadata": {},
   "outputs": [],
   "source": [
    "seed_val = 0\n",
    "list_x_detpow1 = []\n",
    "list_y_detpow1 = []\n",
    "for x in np.arange(0, 50):\n",
    "    tuples = []\n",
    "    for seed in range(seed_val, seed_val + 10):\n",
    "        tuples.append((seed, x))\n",
    "    ret = v.map(run_model_100_randommove_detpow, tuples)\n",
    "    for val in ret:\n",
    "        list_x_detpow1.append(x)\n",
    "        list_y_detpow1.append(val)\n",
    "    print(str(x))\n",
    "    seed_val += 10 #accidental offset should not affect results"
   ]
  },
  {
   "cell_type": "code",
   "execution_count": null,
   "metadata": {},
   "outputs": [],
   "source": [
    "plt.plot(list_x_detpow1, list_y_detpow1, 'o', color='blue', markersize=3);"
   ]
  },
  {
   "cell_type": "code",
   "execution_count": null,
   "metadata": {},
   "outputs": [],
   "source": [
    "plt.hist(list_y_detpow1, bins=100);"
   ]
  },
  {
   "cell_type": "markdown",
   "metadata": {},
   "source": [
    "### Effect of num_of_detpow with belief A on count of A at step 200, with random move prob of 0.0125"
   ]
  },
  {
   "cell_type": "code",
   "execution_count": null,
   "metadata": {},
   "outputs": [],
   "source": [
    "def run_model_200_randommove_detpow(seed_x_tuple):\n",
    "    from model import VirtuousEmotivistModel, EmotivistAgent, VirtuousAgent\n",
    "    seed, num_of_detpow = seed_x_tuple\n",
    "    model = VirtuousEmotivistModel(seed, 25, 25, 0.8, 0.0, 4, 2, 0.01, 8, 0, 0.0, 0.98, 0.0125, 0.025\\\n",
    "                       , 0.3, 0.4, 0.3, 0.32, 0.36, 0.32, 1.0, 1.0, 1.0, 0.7, 0, 0, num_of_detpow, 2, 0.75, 'A', 'A', 'A')\n",
    "    #only emotivist agents with homophily=4\n",
    "    #effect of num_of_detpow with belief A on count of A at step 200, with random move prob of 0.0125\n",
    "    #closer starting distribution of 0.32,0.36,0.32\n",
    "    #for longer step sizes (in the long run), the model will tend to attract towards A (because of extra detpow) or B (because of starting majority)\n",
    "    while model.running and model.schedule.steps < 200: #run for 200 steps\n",
    "        model.step()\n",
    "    \n",
    "    df = model.datacollector.agent_vars[\"strongest_belief\"][-1]\n",
    "    count = 0\n",
    "    for tup in df:\n",
    "        num, belief = tup\n",
    "        if belief == 'A':\n",
    "            count += 1\n",
    "    return count"
   ]
  },
  {
   "cell_type": "code",
   "execution_count": null,
   "metadata": {},
   "outputs": [],
   "source": [
    "seed_val = 0\n",
    "list_x_detpow2 = []\n",
    "list_y_detpow2 = []\n",
    "for x in np.arange(0, 50):\n",
    "    tuples = []\n",
    "    for seed in range(seed_val, seed_val + 10):\n",
    "        tuples.append((seed, x))\n",
    "    ret = v.map(run_model_200_randommove_detpow, tuples)\n",
    "    for val in ret:\n",
    "        list_x_detpow2.append(x)\n",
    "        list_y_detpow2.append(val)\n",
    "    print(str(x))\n",
    "    seed_val += 10 #accidental offset should not affect results"
   ]
  },
  {
   "cell_type": "code",
   "execution_count": null,
   "metadata": {},
   "outputs": [],
   "source": [
    "plt.plot(list_x_detpow2, list_y_detpow2, 'o', color='blue', markersize=3);"
   ]
  },
  {
   "cell_type": "code",
   "execution_count": null,
   "metadata": {},
   "outputs": [],
   "source": [
    "plt.hist(list_y_detpow2, bins=100);"
   ]
  },
  {
   "cell_type": "markdown",
   "metadata": {},
   "source": [
    "## Sensitivity analysis:\n",
    "#### Effect of multiple parameters on proportion of VirtuousAgents at each step 0...300"
   ]
  },
  {
   "cell_type": "code",
   "execution_count": null,
   "metadata": {},
   "outputs": [],
   "source": [
    "problem = {\n",
    "    'num_vars': 6,\n",
    "    'names': ['density', 'virtuous_homophily', 'num_to_convert', 'convert_prob', 'random_move_prob',\n",
    "             'traditionless_life_decrease'],\n",
    "    'bounds': [[0.2,0.9],[1,8],[0.51,8.49],[0.0001, 0.03],[0.0,0.1],[0.0,0.08]]\n",
    "}"
   ]
  },
  {
   "cell_type": "code",
   "execution_count": null,
   "metadata": {},
   "outputs": [],
   "source": [
    "param_values = saltelli.sample(problem,100)\n",
    "param_values.shape"
   ]
  },
  {
   "cell_type": "code",
   "execution_count": null,
   "metadata": {},
   "outputs": [],
   "source": [
    "def run_model_sensitivity(seed_x_tuple):\n",
    "    from model import VirtuousEmotivistModel, EmotivistAgent, VirtuousAgent\n",
    "    import numpy as np\n",
    "    seed, X, num_steps, step_size = seed_x_tuple\n",
    "    model = VirtuousEmotivistModel(seed, 25, 25, X[0], 0.2, 4, int(round(X[1])), 0.01, 8, int(round(X[2])), X[3], 0.98, X[4], X[5]\\\n",
    "                       , 0.3, 0.4, 0.3, 0.3, 0.4, 0.3, 1.0, 1.0, 1.0, 0.7, 0, 0, 0, 2, 0.75, 'A', 'A', 'A')\n",
    "    #effect of multiple parameters on proportion of virtuousagents\n",
    "    \n",
    "    virtuous_pc = []\n",
    "    i=0\n",
    "    while model.running and model.schedule.steps < num_steps: #run for n steps\n",
    "        model.step()\n",
    "        if (model.schedule.steps in range(0, num_steps+step_size, step_size)):\n",
    "            model_out = model.datacollector.get_model_vars_dataframe()\n",
    "            if (model.schedule.get_agent_count() > 0):\n",
    "                virtuous_pc.append(model_out['virtuous_count'][model.schedule.steps] / float(model.schedule.get_agent_count()))\n",
    "            else:\n",
    "                virtuous_pc.append(0.0)\n",
    "            i += 1\n",
    "    \n",
    "    return virtuous_pc"
   ]
  },
  {
   "cell_type": "code",
   "execution_count": null,
   "metadata": {},
   "outputs": [],
   "source": []
  },
  {
   "cell_type": "code",
   "execution_count": null,
   "metadata": {},
   "outputs": [],
   "source": [
    "def calc_si_steps(num_steps, step_size):\n",
    "    #param_values = saltelli.sample(problem,30)\n",
    "    Y = np.zeros([param_values.shape[0], num_steps//step_size])\n",
    "    \n",
    "    for i in range(0,param_values.shape[0],10):\n",
    "        tuples = []\n",
    "        for tmp, X in enumerate(param_values[i:i+10]):\n",
    "            tuples.append((tmp+i, X, num_steps, step_size))\n",
    "            #print(tmp+i)\n",
    "\n",
    "        ret = v.map_sync(run_model_sensitivity, tuples)\n",
    "        print(\"calc_si_steps: \" + str(i))\n",
    "        residx = 0\n",
    "        for result in ret:\n",
    "            Y[i+residx] = result\n",
    "            residx += 1\n",
    "    \n",
    "    return Y\n",
    "        "
   ]
  },
  {
   "cell_type": "code",
   "execution_count": null,
   "metadata": {},
   "outputs": [],
   "source": [
    "Y = calc_si_steps(300, 1)"
   ]
  },
  {
   "cell_type": "code",
   "execution_count": null,
   "metadata": {},
   "outputs": [],
   "source": [
    "Y.shape"
   ]
  },
  {
   "cell_type": "code",
   "execution_count": null,
   "metadata": {},
   "outputs": [],
   "source": [
    "Si_list = []\n",
    "for i in range(0,Y.shape[1]):\n",
    "    to_proc = np.zeros([Y.shape[0]])\n",
    "    for j in range(0,Y.shape[0]):\n",
    "        to_proc[j] = Y[j][i]\n",
    "    \n",
    "    Si_list.append((i, sobol.analyze(problem, to_proc)))\n",
    "    "
   ]
  },
  {
   "cell_type": "code",
   "execution_count": null,
   "metadata": {},
   "outputs": [],
   "source": [
    "def print_si():\n",
    "    print(str(problem) + \"\\n\")\n",
    "    for idx, si in Si_list:\n",
    "        print(str(idx) + \": \" + str(si['S1']))"
   ]
  },
  {
   "cell_type": "code",
   "execution_count": null,
   "metadata": {},
   "outputs": [],
   "source": [
    "print_si()"
   ]
  },
  {
   "cell_type": "code",
   "execution_count": null,
   "metadata": {},
   "outputs": [],
   "source": [
    "v.clear()\n",
    "c.purge_everything()"
   ]
  },
  {
   "cell_type": "code",
   "execution_count": null,
   "metadata": {},
   "outputs": [],
   "source": [
    "a = b = c = d = e = f = []\n",
    "for idx, si in Si_list:\n",
    "    a.append(si[0])\n",
    "    b.append(si[1])\n",
    "    c.append(si[2])\n",
    "    d.append(si[3])\n",
    "    e.append(si[4])\n",
    "    f.append(si[5])\n",
    "plt.stackplot(range(10,310,10), a,b,c,d,e,f, labels=[\"density\", \"virtuous_homophily\", \"num_to_convert\", \"convert_prob\", \"random_move_prob\", \"traditionless_life_decrease\"])"
   ]
  },
  {
   "cell_type": "markdown",
   "metadata": {},
   "source": [
    "---\n",
    "### Effect of multiple parameters on proportion of A-believing EmotivistAgents at each step 0...300\n",
    "#### No VirtuousAgents"
   ]
  },
  {
   "cell_type": "code",
   "execution_count": 3,
   "metadata": {},
   "outputs": [
    {
     "data": {
      "text/plain": [
       "(1800, 8)"
      ]
     },
     "execution_count": 3,
     "metadata": {},
     "output_type": "execute_result"
    }
   ],
   "source": [
    "problem2 = {\n",
    "    'num_vars': 8,\n",
    "    'names': ['density', 'homophily', 'nudge_amount', 'num_to_argue', 'random_move_prob',\\\n",
    "              'strongest_belief_weight', 'count_extra_pow', 'count_extra_det'],\n",
    "    'bounds': [[0.2,0.95],[0.51,8.49],[0.001,0.1],[0.51,8.49],[0.0, 0.1],[0.4,0.95],[0,150],[0,150]]\n",
    "}\n",
    "param_values2 = saltelli.sample(problem2,100)\n",
    "param_values2.shape"
   ]
  },
  {
   "cell_type": "code",
   "execution_count": 4,
   "metadata": {},
   "outputs": [],
   "source": [
    "def run_model_sensitivity2(seed_x_tuple):\n",
    "    from model import VirtuousEmotivistModel, EmotivistAgent, VirtuousAgent\n",
    "    import numpy as np\n",
    "    seed, X, num_steps, step_size = seed_x_tuple\n",
    "    model = VirtuousEmotivistModel(seed, 25, 25, X[0], 0.0, int(round(X[1])), 4, X[2], int(round(X[3])), 0, 0.0, 0.98, X[4]\\\n",
    "            , 0.0, 0.3, 0.4, 0.3, 0.3, 0.4, 0.3, 1.0, 1.0, 1.0, X[5], int(round(X[6])), int(round(X[7])), 0, 2, 0.75, 'A', 'A', 'A')\n",
    "    #effect of multiple parameters on proportion of virtuousagents\n",
    "    #0.0% emotivist agents\n",
    "    a_belief_count = []\n",
    "    i=0\n",
    "    while model.running and model.schedule.steps < num_steps: #run for n steps\n",
    "        model.step()\n",
    "        if (model.schedule.steps in range(0, num_steps+step_size, step_size)):\n",
    "            df = model.datacollector.agent_vars[\"strongest_belief\"][-1]\n",
    "            count = 0\n",
    "            for tup in df:\n",
    "                num, belief = tup\n",
    "                if belief == 'A':\n",
    "                    count += 1\n",
    "            a_belief_count.append(count)\n",
    "            i += 1\n",
    "    \n",
    "    return a_belief_count"
   ]
  },
  {
   "cell_type": "code",
   "execution_count": 5,
   "metadata": {},
   "outputs": [],
   "source": [
    "def calc_si_steps2(num_steps, step_size):\n",
    "    #param_values = saltelli.sample(problem,30)\n",
    "    Y = np.zeros([param_values2.shape[0], num_steps//step_size])\n",
    "    \n",
    "    for i in range(0,param_values2.shape[0],10):\n",
    "        c = Client()\n",
    "        v = c.load_balanced_view()\n",
    "        tuples = []\n",
    "        for tmp, X in enumerate(param_values2[i:i+10]):\n",
    "            tuples.append((tmp+i, X, num_steps, step_size))\n",
    "            #print(tmp+i)\n",
    "\n",
    "        ret = v.map_sync(run_model_sensitivity2, tuples, balanced=True)\n",
    "        print(\"calc_si_steps2: \" + str(i))\n",
    "        residx = 0\n",
    "        for result in ret:\n",
    "            Y[i+residx] = result\n",
    "            residx += 1\n",
    "        c.purge_everything()\n",
    "        c.close()\n",
    "        del v\n",
    "        del c\n",
    "    return Y"
   ]
  },
  {
   "cell_type": "code",
   "execution_count": null,
   "metadata": {},
   "outputs": [
    {
     "name": "stdout",
     "output_type": "stream",
     "text": [
      "calc_si_steps2: 0\n",
      "calc_si_steps2: 10\n",
      "calc_si_steps2: 20\n",
      "calc_si_steps2: 30\n",
      "calc_si_steps2: 40\n",
      "calc_si_steps2: 50\n",
      "calc_si_steps2: 60\n",
      "calc_si_steps2: 70\n",
      "calc_si_steps2: 80\n",
      "calc_si_steps2: 90\n",
      "calc_si_steps2: 100\n",
      "calc_si_steps2: 110\n",
      "calc_si_steps2: 120\n",
      "calc_si_steps2: 130\n",
      "calc_si_steps2: 140\n",
      "calc_si_steps2: 150\n",
      "calc_si_steps2: 160\n",
      "calc_si_steps2: 170\n",
      "calc_si_steps2: 180\n",
      "calc_si_steps2: 190\n",
      "calc_si_steps2: 200\n",
      "calc_si_steps2: 210\n",
      "calc_si_steps2: 220\n",
      "calc_si_steps2: 230\n",
      "calc_si_steps2: 240\n",
      "calc_si_steps2: 250\n",
      "calc_si_steps2: 260\n",
      "calc_si_steps2: 270\n",
      "calc_si_steps2: 280\n",
      "calc_si_steps2: 290\n",
      "calc_si_steps2: 300\n",
      "calc_si_steps2: 310\n",
      "calc_si_steps2: 320\n",
      "calc_si_steps2: 330\n",
      "calc_si_steps2: 340\n",
      "calc_si_steps2: 350\n",
      "calc_si_steps2: 360\n",
      "calc_si_steps2: 370\n",
      "calc_si_steps2: 380\n",
      "calc_si_steps2: 390\n",
      "calc_si_steps2: 400\n",
      "calc_si_steps2: 410\n",
      "calc_si_steps2: 420\n",
      "calc_si_steps2: 430\n",
      "calc_si_steps2: 440\n",
      "calc_si_steps2: 450\n",
      "calc_si_steps2: 460\n",
      "calc_si_steps2: 470\n",
      "calc_si_steps2: 480\n",
      "calc_si_steps2: 490\n",
      "calc_si_steps2: 500\n",
      "calc_si_steps2: 510\n",
      "calc_si_steps2: 520\n",
      "calc_si_steps2: 530\n",
      "calc_si_steps2: 540\n",
      "calc_si_steps2: 550\n",
      "calc_si_steps2: 560\n",
      "calc_si_steps2: 570\n",
      "calc_si_steps2: 580\n",
      "calc_si_steps2: 590\n",
      "calc_si_steps2: 600\n",
      "calc_si_steps2: 610\n",
      "calc_si_steps2: 620\n",
      "calc_si_steps2: 630\n",
      "calc_si_steps2: 640\n",
      "calc_si_steps2: 650\n",
      "calc_si_steps2: 660\n",
      "calc_si_steps2: 670\n",
      "calc_si_steps2: 680\n",
      "calc_si_steps2: 690\n",
      "calc_si_steps2: 700\n",
      "calc_si_steps2: 710\n",
      "calc_si_steps2: 720\n",
      "calc_si_steps2: 730\n",
      "calc_si_steps2: 740\n",
      "calc_si_steps2: 750\n",
      "calc_si_steps2: 760\n",
      "calc_si_steps2: 770\n",
      "calc_si_steps2: 780\n",
      "calc_si_steps2: 790\n",
      "calc_si_steps2: 800\n",
      "calc_si_steps2: 810\n",
      "calc_si_steps2: 820\n",
      "calc_si_steps2: 830\n"
     ]
    }
   ],
   "source": [
    "Y2 = calc_si_steps2(300,1)"
   ]
  },
  {
   "cell_type": "code",
   "execution_count": null,
   "metadata": {},
   "outputs": [],
   "source": []
  },
  {
   "cell_type": "code",
   "execution_count": null,
   "metadata": {},
   "outputs": [],
   "source": [
    "#stores:\n",
    "%store Y2\n",
    "#%store Y"
   ]
  },
  {
   "cell_type": "code",
   "execution_count": null,
   "metadata": {},
   "outputs": [],
   "source": [
    "Si_list2 = []\n",
    "for i in range(0,Y2.shape[1]):\n",
    "    to_proc = np.zeros([Y2.shape[0]])\n",
    "    for j in range(0,Y2.shape[0]):\n",
    "        to_proc[j] = Y2[j][i]\n",
    "    \n",
    "    Si_list2.append((i, sobol.analyze(problem2, to_proc)))"
   ]
  },
  {
   "cell_type": "code",
   "execution_count": null,
   "metadata": {},
   "outputs": [],
   "source": [
    "a = []\n",
    "b = []\n",
    "c = []\n",
    "d = []\n",
    "e = []\n",
    "f = []\n",
    "g = []\n",
    "h = []\n",
    "for idx, si in Si_list2:\n",
    "    #print(idx)\n",
    "    #print(si['S1'][0])\n",
    "    a.append(si['S1'][0])\n",
    "    b.append(si['S1'][1])\n",
    "    c.append(si['S1'][2])\n",
    "    d.append(si['S1'][3])\n",
    "    e.append(si['S1'][4])\n",
    "    f.append(si['S1'][5])\n",
    "    g.append(si['S1'][6])\n",
    "    h.append(si['S1'][7])\n",
    "plt.style.use('seaborn-whitegrid')\n",
    "plt.rcParams['figure.figsize'] = [12, 8]\n",
    "plt.stackplot(range(0,300), a,b,c,d,e,f,g,h, labels=['density', 'homophily', 'nudge_amount', 'num_to_argue', 'random_move_prob', 'strongest_belief_weight', 'count_extra_pow', 'count_extra_det'])\n",
    "plt.legend(loc=0)"
   ]
  },
  {
   "cell_type": "code",
   "execution_count": null,
   "metadata": {},
   "outputs": [],
   "source": [
    "%store -d Y2"
   ]
  },
  {
   "cell_type": "code",
   "execution_count": null,
   "metadata": {},
   "outputs": [],
   "source": []
  }
 ],
 "metadata": {
  "kernelspec": {
   "display_name": "Python 3",
   "language": "python",
   "name": "python3"
  },
  "language_info": {
   "codemirror_mode": {
    "name": "ipython",
    "version": 3
   },
   "file_extension": ".py",
   "mimetype": "text/x-python",
   "name": "python",
   "nbconvert_exporter": "python",
   "pygments_lexer": "ipython3",
   "version": "3.6.5"
  }
 },
 "nbformat": 4,
 "nbformat_minor": 2
}
