{
 "cells": [
  {
   "cell_type": "code",
   "execution_count": 1,
   "metadata": {},
   "outputs": [],
   "source": [
    "from model import VirtuousEmotivistModel, EmotivistAgent, VirtuousAgent\n",
    "import pandas as pd\n",
    "import plotly.plotly as py\n",
    "from plotly.graph_objs import *\n",
    "import numpy as np\n",
    "from ipyparallel import Client"
   ]
  },
  {
   "cell_type": "code",
   "execution_count": 2,
   "metadata": {},
   "outputs": [],
   "source": [
    "'''model = VirtuousEmotivistModel(1, 25, 25, 0.8, 0.2, 2, 3, 0.01, 8, 1, 0.001, 0.98, 0.0, 0.02\\\n",
    "                       , 0.3, 0.4, 0.3, 0.3, 0.4, 0.3, 1.0, 1.0, 1.0, 0.7, 0, 0, 0, 2, 0.75, 'A', 'A', 'A')'''\n"
   ]
  },
  {
   "cell_type": "code",
   "execution_count": 2,
   "metadata": {},
   "outputs": [],
   "source": [
    "c = Client()\n",
    "v = c[:]"
   ]
  },
  {
   "cell_type": "code",
   "execution_count": 43,
   "metadata": {},
   "outputs": [],
   "source": [
    "def run_model_300(seed_x_tuple):\n",
    "    from model import VirtuousEmotivistModel, EmotivistAgent, VirtuousAgent\n",
    "    seed, prob_conversion = seed_x_tuple\n",
    "    model = VirtuousEmotivistModel(seed, 25, 25, 0.8, 0.2, 2, 3, 0.01, 8, 1, prob_conversion, 0.98, 0.0, 0.02\\\n",
    "                       , 0.3, 0.4, 0.3, 0.3, 0.4, 0.3, 1.0, 1.0, 1.0, 0.7, 0, 0, 0, 2, 0.75, 'A', 'A', 'A')\n",
    "    while model.running and model.schedule.steps < 300: #run for 300 steps\n",
    "        model.step()\n",
    "    \n",
    "    model_out = model.datacollector.get_model_vars_dataframe()\n",
    "    return model_out['virtuous_count'][300]"
   ]
  },
  {
   "cell_type": "code",
   "execution_count": 44,
   "metadata": {},
   "outputs": [
    {
     "name": "stdout",
     "output_type": "stream",
     "text": [
      "0.0\n",
      "0.0005\n",
      "0.001\n",
      "0.0015\n",
      "0.002\n",
      "0.0025\n",
      "0.003\n",
      "0.0035\n",
      "0.004\n",
      "0.0045000000000000005\n",
      "0.005\n",
      "0.0055\n",
      "0.006\n",
      "0.006500000000000001\n",
      "0.007\n",
      "0.0075\n",
      "0.008\n",
      "0.0085\n",
      "0.009000000000000001\n",
      "0.0095\n",
      "0.01\n",
      "0.0105\n",
      "0.011\n",
      "0.0115\n",
      "0.012\n",
      "0.0125\n",
      "0.013000000000000001\n",
      "0.0135\n",
      "0.014\n",
      "0.0145\n",
      "0.015\n",
      "0.0155\n",
      "0.016\n",
      "0.0165\n",
      "0.017\n",
      "0.0175\n",
      "0.018000000000000002\n",
      "0.0185\n",
      "0.019\n",
      "0.0195\n",
      "0.02\n"
     ]
    }
   ],
   "source": [
    "seed_val = 0\n",
    "list_x = []\n",
    "list_y = []\n",
    "for x in np.arange(0.0, 0.0205, 0.0005):\n",
    "    tuples = []\n",
    "    for seed in range(seed_val, seed_val + 10):\n",
    "        tuples.append((seed, x))\n",
    "    ret = v.map(run_model_300, tuples)\n",
    "    for val in ret:\n",
    "        list_x.append(x)\n",
    "        list_y.append(val)\n",
    "    print(str(x))\n",
    "    seed_val += 10"
   ]
  },
  {
   "cell_type": "code",
   "execution_count": 6,
   "metadata": {},
   "outputs": [],
   "source": [
    "import matplotlib.pyplot as plt"
   ]
  },
  {
   "cell_type": "code",
   "execution_count": 7,
   "metadata": {},
   "outputs": [],
   "source": [
    "pd.set_option('display.max_rows', 350)"
   ]
  },
  {
   "cell_type": "code",
   "execution_count": 8,
   "metadata": {},
   "outputs": [],
   "source": [
    "plt.style.use('seaborn-whitegrid')\n",
    "plt.rcParams['figure.figsize'] = [10, 8]"
   ]
  },
  {
   "cell_type": "code",
   "execution_count": 78,
   "metadata": {},
   "outputs": [
    {
     "data": {
      "image/png": "[encoded data removed]",
      "text/plain": [
       "<matplotlib.figure.Figure at 0x28c891f6ef0>"
      ]
     },
     "metadata": {},
     "output_type": "display_data"
    }
   ],
   "source": [
    "plt.plot(list_x, list_y, 'o', color='blue', markersize=3);\n",
    "plt.show()"
   ]
  },
  {
   "cell_type": "code",
   "execution_count": 3,
   "metadata": {},
   "outputs": [],
   "source": [
    "def run_model_300_det(seed_x_tuple):\n",
    "    from model import VirtuousEmotivistModel, EmotivistAgent, VirtuousAgent\n",
    "    seed, det = seed_x_tuple\n",
    "    model = VirtuousEmotivistModel(seed, 25, 25, 0.8, 0.0, 3, 3, 0.01, 8, 1, 0.0, 0.98, 0.0, 0.02\\\n",
    "                       , 0.3, 0.4, 0.3, 0.3, 0.4, 0.3, 1.0, 1.0, 1.0, 0.7, 0, det, 0, 2, 0.75, 'A', 'A', 'A')\n",
    "    while model.running and model.schedule.steps < 300: #run for 300 steps\n",
    "        model.step()\n",
    "    \n",
    "    df = model.datacollector.agent_vars[\"strongest_belief\"][-1]\n",
    "    count = 0\n",
    "    for tup in df:\n",
    "        num, belief = tup\n",
    "        if belief == 'A':\n",
    "            count += 1\n",
    "    return count"
   ]
  },
  {
   "cell_type": "code",
   "execution_count": 4,
   "metadata": {
    "scrolled": true
   },
   "outputs": [
    {
     "name": "stdout",
     "output_type": "stream",
     "text": [
      "0\n",
      "1\n",
      "2\n",
      "3\n",
      "4\n",
      "5\n",
      "6\n",
      "7\n",
      "8\n",
      "9\n",
      "10\n",
      "11\n",
      "12\n",
      "13\n",
      "14\n",
      "15\n",
      "16\n",
      "17\n",
      "18\n",
      "19\n",
      "20\n",
      "21\n",
      "22\n",
      "23\n",
      "24\n",
      "25\n",
      "26\n",
      "27\n",
      "28\n",
      "29\n",
      "30\n",
      "31\n",
      "32\n",
      "33\n",
      "34\n",
      "35\n",
      "36\n",
      "37\n",
      "38\n",
      "39\n",
      "40\n",
      "41\n",
      "42\n",
      "43\n",
      "44\n",
      "45\n",
      "46\n",
      "47\n",
      "48\n",
      "49\n"
     ]
    }
   ],
   "source": [
    "seed_val = 0\n",
    "list_x_det = []\n",
    "list_y_det = []\n",
    "for x in np.arange(0, 50):\n",
    "    tuples = []\n",
    "    for seed in range(seed_val, seed_val + 10):\n",
    "        tuples.append((seed, x))\n",
    "    ret = v.map(run_model_300_det, tuples)\n",
    "    for val in ret:\n",
    "        list_x_det.append(x)\n",
    "        list_y_det.append(val)\n",
    "    print(str(x))\n",
    "    seed_val += 10"
   ]
  },
  {
   "cell_type": "code",
   "execution_count": 9,
   "metadata": {
    "scrolled": true
   },
   "outputs": [
    {
     "data": {
      "image/png": "[encoded data removed]",
      "text/plain": [
       "<matplotlib.figure.Figure at 0x22471b358d0>"
      ]
     },
     "metadata": {},
     "output_type": "display_data"
    }
   ],
   "source": [
    "plt.plot(list_x_det, list_y_det, 'o', color='blue', markersize=3);"
   ]
  },
  {
   "cell_type": "code",
   "execution_count": 42,
   "metadata": {},
   "outputs": [
    {
     "data": {
      "text/plain": [
       "150"
      ]
     },
     "execution_count": 42,
     "metadata": {},
     "output_type": "execute_result"
    }
   ],
   "source": [
    "det = 5\n",
    "model = VirtuousEmotivistModel(seed, 25, 25, 0.8, 0.0, 3, 3, 0.01, 8, 1, 0.0, 0.98, 0.0, 0.02\\\n",
    "                       , 0.3, 0.4, 0.3, 0.3, 0.4, 0.3, 1.0, 1.0, 1.0, 0.7, 0, det, 0, 2, 0.75, 'A', 'A', 'A')\n",
    "while model.running and model.schedule.steps < 2: #run for 300 steps\n",
    "    model.step()\n",
    "df = model.datacollector.agent_vars[\"strongest_belief\"][-1]\n",
    "count = 0\n",
    "for tup in df:\n",
    "    num, belief = tup\n",
    "    if belief == 'A':\n",
    "        count += 1\n",
    "count"
   ]
  },
  {
   "cell_type": "code",
   "execution_count": null,
   "metadata": {},
   "outputs": [],
   "source": []
  }
 ],
 "metadata": {
  "kernelspec": {
   "display_name": "Python 3",
   "language": "python",
   "name": "python3"
  },
  "language_info": {
   "codemirror_mode": {
    "name": "ipython",
    "version": 3
   },
   "file_extension": ".py",
   "mimetype": "text/x-python",
   "name": "python",
   "nbconvert_exporter": "python",
   "pygments_lexer": "ipython3",
   "version": "3.6.4"
  }
 },
 "nbformat": 4,
 "nbformat_minor": 2
}
