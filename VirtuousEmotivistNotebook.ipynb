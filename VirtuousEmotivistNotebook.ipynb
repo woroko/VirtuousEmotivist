{
 "cells": [
  {
   "cell_type": "code",
   "execution_count": 3,
   "metadata": {},
   "outputs": [],
   "source": [
    "from model import VirtuousEmotivistModel, EmotivistAgent, VirtuousAgent\n",
    "import pandas as pd\n",
    "import numpy as np\n",
    "from ipyparallel import Client\n",
    "import matplotlib.pyplot as plt\n",
    "from SALib.sample import saltelli\n",
    "from SALib.analyze import sobol"
   ]
  },
  {
   "cell_type": "code",
   "execution_count": 4,
   "metadata": {},
   "outputs": [],
   "source": [
    "c = Client()\n",
    "v = c[:]"
   ]
  },
  {
   "cell_type": "code",
   "execution_count": null,
   "metadata": {},
   "outputs": [],
   "source": [
    "def run_model_300(seed_x_tuple):\n",
    "    from model import VirtuousEmotivistModel, EmotivistAgent, VirtuousAgent\n",
    "    seed, prob_conversion = seed_x_tuple\n",
    "    model = VirtuousEmotivistModel(seed, 25, 25, 0.8, 0.2, 2, 3, 0.01, 8, 1, prob_conversion, 0.98, 0.0, 0.02\\\n",
    "                       , 0.3, 0.4, 0.3, 0.3, 0.4, 0.3, 1.0, 1.0, 1.0, 0.7, 0, 0, 0, 2, 0.75, 'A', 'A', 'A')\n",
    "    while model.running and model.schedule.steps < 300: #run for 300 steps\n",
    "        model.step()\n",
    "    \n",
    "    model_out = model.datacollector.get_model_vars_dataframe()\n",
    "    return model_out['virtuous_count'][300]"
   ]
  },
  {
   "cell_type": "code",
   "execution_count": null,
   "metadata": {},
   "outputs": [],
   "source": [
    "seed_val = 0\n",
    "list_x = []\n",
    "list_y = []\n",
    "for x in np.arange(0.0, 0.0205, 0.0005):\n",
    "    tuples = []\n",
    "    for seed in range(seed_val, seed_val + 10):\n",
    "        tuples.append((seed, x))\n",
    "    ret = v.map(run_model_300, tuples)\n",
    "    for val in ret:\n",
    "        list_x.append(x)\n",
    "        list_y.append(val)\n",
    "    print(str(x))\n",
    "    seed_val += 10"
   ]
  },
  {
   "cell_type": "code",
   "execution_count": null,
   "metadata": {},
   "outputs": [],
   "source": [
    "pd.set_option('display.max_rows', 350)"
   ]
  },
  {
   "cell_type": "code",
   "execution_count": null,
   "metadata": {},
   "outputs": [],
   "source": [
    "plt.style.use('seaborn-whitegrid')\n",
    "plt.rcParams['figure.figsize'] = [8, 6]"
   ]
  },
  {
   "cell_type": "code",
   "execution_count": null,
   "metadata": {},
   "outputs": [],
   "source": [
    "plt.plot(list_x, list_y, 'o', color='blue', markersize=3);\n",
    "plt.show()"
   ]
  },
  {
   "cell_type": "code",
   "execution_count": null,
   "metadata": {},
   "outputs": [],
   "source": [
    "def run_model_300_det(seed_x_tuple):\n",
    "    from model import VirtuousEmotivistModel, EmotivistAgent, VirtuousAgent\n",
    "    seed, det = seed_x_tuple\n",
    "    model = VirtuousEmotivistModel(seed, 25, 25, 0.8, 0.0, 3, 3, 0.01, 8, 1, 0.0, 0.98, 0.0, 0.02\\\n",
    "                       , 0.3, 0.4, 0.3, 0.3, 0.4, 0.3, 1.0, 1.0, 1.0, 0.7, 0, det, 0, 2, 0.75, 'A', 'A', 'A')\n",
    "    while model.running and model.schedule.steps < 300: #run for 300 steps\n",
    "        model.step()\n",
    "    \n",
    "    df = model.datacollector.agent_vars[\"strongest_belief\"][-1]\n",
    "    count = 0\n",
    "    for tup in df:\n",
    "        num, belief = tup\n",
    "        if belief == 'A':\n",
    "            count += 1\n",
    "    return count"
   ]
  },
  {
   "cell_type": "code",
   "execution_count": null,
   "metadata": {
    "scrolled": true
   },
   "outputs": [],
   "source": [
    "seed_val = 0\n",
    "list_x_det = []\n",
    "list_y_det = []\n",
    "for x in np.arange(0, 70):\n",
    "    tuples = []\n",
    "    for seed in range(seed_val, seed_val + 10):\n",
    "        tuples.append((seed, x))\n",
    "    ret = v.map(run_model_300_det, tuples)\n",
    "    for val in ret:\n",
    "        list_x_det.append(x)\n",
    "        list_y_det.append(val)\n",
    "    print(str(x))\n",
    "    seed_val += 10"
   ]
  },
  {
   "cell_type": "code",
   "execution_count": null,
   "metadata": {
    "scrolled": true
   },
   "outputs": [],
   "source": [
    "plt.plot(list_x_det, list_y_det, 'o', color='blue', markersize=3);"
   ]
  },
  {
   "cell_type": "code",
   "execution_count": null,
   "metadata": {},
   "outputs": [],
   "source": [
    "def run_model_300_emo_power(seed_x_tuple):\n",
    "    from model import VirtuousEmotivistModel, EmotivistAgent, VirtuousAgent\n",
    "    seed, power = seed_x_tuple\n",
    "    model = VirtuousEmotivistModel(seed, 25, 25, 0.8, 0.0, 4, 4, 0.01, 8, 0, 0.0, 0.98, 0.0, 0.02\\\n",
    "                       , 0.3, 0.4, 0.3, 0.3, 0.4, 0.3, 1.0, 1.0, 1.0, 0.7, power, 0, 0, 2, 0.75, 'A', 'A', 'A')\n",
    "    #only emotivists\n",
    "    while model.running and model.schedule.steps < 300: #run for 300 steps\n",
    "        model.step()\n",
    "    \n",
    "    df = model.datacollector.agent_vars[\"strongest_belief\"][-1]\n",
    "    count = 0\n",
    "    for tup in df:\n",
    "        num, belief = tup\n",
    "        if belief == 'A':\n",
    "            count += 1\n",
    "    return count"
   ]
  },
  {
   "cell_type": "code",
   "execution_count": null,
   "metadata": {},
   "outputs": [],
   "source": [
    "seed_val = 0\n",
    "list_x_pow = []\n",
    "list_y_pow = []\n",
    "for x in np.arange(0, 70):\n",
    "    tuples = []\n",
    "    for seed in range(seed_val, seed_val + 10):\n",
    "        tuples.append((seed, x))\n",
    "    ret = v.map(run_model_300_emo_power, tuples)\n",
    "    for val in ret:\n",
    "        list_x_pow.append(x)\n",
    "        list_y_pow.append(val)\n",
    "    print(str(x))\n",
    "    seed_val += 10"
   ]
  },
  {
   "cell_type": "code",
   "execution_count": null,
   "metadata": {},
   "outputs": [],
   "source": [
    "plt.plot(list_x_pow, list_y_pow, 'o', color='blue', markersize=3);\n"
   ]
  },
  {
   "cell_type": "code",
   "execution_count": null,
   "metadata": {},
   "outputs": [],
   "source": [
    "def run_model_300_homophily(seed_x_tuple):\n",
    "    from model import VirtuousEmotivistModel, EmotivistAgent, VirtuousAgent\n",
    "    seed, homophily = seed_x_tuple\n",
    "    model = VirtuousEmotivistModel(seed, 25, 25, 0.8, 0.1, homophily, 2, 0.01, 8, 0, 0.0, 0.98, 0.0, 0.025\\\n",
    "                       , 0.3, 0.4, 0.3, 0.3, 0.4, 0.3, 1.0, 1.0, 1.0, 0.7, 0, 0, 0, 2, 0.75, 'A', 'A', 'A')\n",
    "    #has 10% virtuous but no conversion\n",
    "    #effect of homophily on count of B (majority)\n",
    "    while model.running and model.schedule.steps < 300: #run for 300 steps\n",
    "        model.step()\n",
    "    \n",
    "    df = model.datacollector.agent_vars[\"strongest_belief\"][-1]\n",
    "    count = 0\n",
    "    for tup in df:\n",
    "        num, belief = tup\n",
    "        if belief == 'B':\n",
    "            count += 1\n",
    "    return count"
   ]
  },
  {
   "cell_type": "code",
   "execution_count": null,
   "metadata": {},
   "outputs": [],
   "source": [
    "seed_val = 0\n",
    "list_x_homophily = []\n",
    "list_y_homophily = []\n",
    "for x in np.arange(0, 9):\n",
    "    tuples = []\n",
    "    for seed in range(seed_val, seed_val + 50):\n",
    "        tuples.append((seed, x))\n",
    "    ret = v.map(run_model_300_homophily, tuples)\n",
    "    for val in ret:\n",
    "        list_x_homophily.append(x)\n",
    "        list_y_homophily.append(val)\n",
    "    print(str(x))\n",
    "    seed_val += 100 #offset should not affect results"
   ]
  },
  {
   "cell_type": "code",
   "execution_count": null,
   "metadata": {},
   "outputs": [],
   "source": [
    "plt.plot(list_x_homophily, list_y_homophily, 'o', color='blue', markersize=3);"
   ]
  },
  {
   "cell_type": "code",
   "execution_count": null,
   "metadata": {},
   "outputs": [],
   "source": [
    "def run_model_100_randommove_detpow(seed_x_tuple):\n",
    "    from model import VirtuousEmotivistModel, EmotivistAgent, VirtuousAgent\n",
    "    seed, num_of_detpow = seed_x_tuple\n",
    "    model = VirtuousEmotivistModel(seed, 25, 25, 0.8, 0.0, 4, 2, 0.01, 8, 0, 0.0, 0.98, 0.0125, 0.025\\\n",
    "                       , 0.3, 0.4, 0.3, 0.32, 0.36, 0.32, 1.0, 1.0, 1.0, 0.7, 0, 0, num_of_detpow, 2, 0.75, 'A', 'A', 'A')\n",
    "    #only emotivist agents with homophily=4\n",
    "    #effect of num_of_detpow with belief A on count of A at step 100, with random move prob of 0.0125\n",
    "    #closer starting distribution of 0.32,0.36,0.32\n",
    "    # 100 steps shows results in the short term\n",
    "    while model.running and model.schedule.steps < 100: #run for 100 steps\n",
    "        model.step()\n",
    "    \n",
    "    df = model.datacollector.agent_vars[\"strongest_belief\"][-1]\n",
    "    count = 0\n",
    "    for tup in df:\n",
    "        num, belief = tup\n",
    "        if belief == 'A':\n",
    "            count += 1\n",
    "    return count"
   ]
  },
  {
   "cell_type": "code",
   "execution_count": null,
   "metadata": {},
   "outputs": [],
   "source": [
    "seed_val = 0\n",
    "list_x_detpow1 = []\n",
    "list_y_detpow1 = []\n",
    "for x in np.arange(0, 50):\n",
    "    tuples = []\n",
    "    for seed in range(seed_val, seed_val + 10):\n",
    "        tuples.append((seed, x))\n",
    "    ret = v.map(run_model_100_randommove_detpow, tuples)\n",
    "    for val in ret:\n",
    "        list_x_detpow1.append(x)\n",
    "        list_y_detpow1.append(val)\n",
    "    print(str(x))\n",
    "    seed_val += 10 #accidental offset should not affect results"
   ]
  },
  {
   "cell_type": "code",
   "execution_count": null,
   "metadata": {},
   "outputs": [],
   "source": [
    "plt.plot(list_x_detpow1, list_y_detpow1, 'o', color='blue', markersize=3);"
   ]
  },
  {
   "cell_type": "code",
   "execution_count": null,
   "metadata": {},
   "outputs": [],
   "source": [
    "plt.hist(list_y_detpow1, bins=100);"
   ]
  },
  {
   "cell_type": "code",
   "execution_count": null,
   "metadata": {},
   "outputs": [],
   "source": [
    "def run_model_200_randommove_detpow(seed_x_tuple):\n",
    "    from model import VirtuousEmotivistModel, EmotivistAgent, VirtuousAgent\n",
    "    seed, num_of_detpow = seed_x_tuple\n",
    "    model = VirtuousEmotivistModel(seed, 25, 25, 0.8, 0.0, 4, 2, 0.01, 8, 0, 0.0, 0.98, 0.0125, 0.025\\\n",
    "                       , 0.3, 0.4, 0.3, 0.32, 0.36, 0.32, 1.0, 1.0, 1.0, 0.7, 0, 0, num_of_detpow, 2, 0.75, 'A', 'A', 'A')\n",
    "    #only emotivist agents with homophily=4\n",
    "    #effect of num_of_detpow with belief A on count of A at step 200, with random move prob of 0.0125\n",
    "    #closer starting distribution of 0.32,0.36,0.32\n",
    "    #for longer step sizes (in the long run), the model will tend to attract towards A (because of extra detpow) or B (because of starting majority)\n",
    "    while model.running and model.schedule.steps < 200: #run for 200 steps\n",
    "        model.step()\n",
    "    \n",
    "    df = model.datacollector.agent_vars[\"strongest_belief\"][-1]\n",
    "    count = 0\n",
    "    for tup in df:\n",
    "        num, belief = tup\n",
    "        if belief == 'A':\n",
    "            count += 1\n",
    "    return count"
   ]
  },
  {
   "cell_type": "code",
   "execution_count": null,
   "metadata": {},
   "outputs": [],
   "source": [
    "seed_val = 0\n",
    "list_x_detpow2 = []\n",
    "list_y_detpow2 = []\n",
    "for x in np.arange(0, 50):\n",
    "    tuples = []\n",
    "    for seed in range(seed_val, seed_val + 10):\n",
    "        tuples.append((seed, x))\n",
    "    ret = v.map(run_model_200_randommove_detpow, tuples)\n",
    "    for val in ret:\n",
    "        list_x_detpow2.append(x)\n",
    "        list_y_detpow2.append(val)\n",
    "    print(str(x))\n",
    "    seed_val += 10 #accidental offset should not affect results"
   ]
  },
  {
   "cell_type": "code",
   "execution_count": null,
   "metadata": {},
   "outputs": [],
   "source": [
    "plt.plot(list_x_detpow2, list_y_detpow2, 'o', color='blue', markersize=3);"
   ]
  },
  {
   "cell_type": "code",
   "execution_count": null,
   "metadata": {},
   "outputs": [],
   "source": [
    "plt.hist(list_y_detpow2, bins=100);"
   ]
  },
  {
   "cell_type": "markdown",
   "metadata": {},
   "source": [
    "## Sensitivity analysis:\n",
    "#### Effect of multiple parameters on proportion of VirtuousAgents at step 100"
   ]
  },
  {
   "cell_type": "code",
   "execution_count": 5,
   "metadata": {},
   "outputs": [],
   "source": [
    "problem = {\n",
    "    'num_vars': 6,\n",
    "    'names': ['density', 'virtuous_homophily', 'num_to_convert', 'convert_prob', 'random_move_prob',\n",
    "             'traditionless_life_decrease'],\n",
    "    'bounds': [[0.2,0.9],[1,8],[0.51,8.49],[0.0001, 0.03],[0.0,0.1],[0.0,0.08]]\n",
    "}"
   ]
  },
  {
   "cell_type": "code",
   "execution_count": 6,
   "metadata": {},
   "outputs": [
    {
     "data": {
      "text/plain": [
       "(1400, 6)"
      ]
     },
     "execution_count": 6,
     "metadata": {},
     "output_type": "execute_result"
    }
   ],
   "source": [
    "param_values = saltelli.sample(problem,100)\n",
    "param_values.shape"
   ]
  },
  {
   "cell_type": "code",
   "execution_count": 7,
   "metadata": {},
   "outputs": [],
   "source": [
    "def run_model_sensitivity(seed_x_tuple):\n",
    "    from model import VirtuousEmotivistModel, EmotivistAgent, VirtuousAgent\n",
    "    import numpy as np\n",
    "    seed, X, num_steps, step_size = seed_x_tuple\n",
    "    model = VirtuousEmotivistModel(seed, 25, 25, X[0], 0.2, 4, int(round(X[1])), 0.01, 8, int(round(X[2])), X[3], 0.98, X[4], X[5]\\\n",
    "                       , 0.3, 0.4, 0.3, 0.3, 0.4, 0.3, 1.0, 1.0, 1.0, 0.7, 0, 0, 0, 2, 0.75, 'A', 'A', 'A')\n",
    "    #effect of multiple parameters on proportion of virtuousagents\n",
    "    \n",
    "    virtuous_pc = []\n",
    "    i=0\n",
    "    while model.running and model.schedule.steps < num_steps: #run for n steps\n",
    "        model.step()\n",
    "        if (model.schedule.steps in range(0, num_steps+step_size, step_size)):\n",
    "            model_out = model.datacollector.get_model_vars_dataframe()\n",
    "            if (model.schedule.get_agent_count() > 0):\n",
    "                virtuous_pc.append(model_out['virtuous_count'][model.schedule.steps] / float(model.schedule.get_agent_count()))\n",
    "            else:\n",
    "                virtuous_pc.append(0.0)\n",
    "            i += 1\n",
    "    \n",
    "    return virtuous_pc"
   ]
  },
  {
   "cell_type": "code",
   "execution_count": null,
   "metadata": {},
   "outputs": [],
   "source": []
  },
  {
   "cell_type": "code",
   "execution_count": 8,
   "metadata": {},
   "outputs": [],
   "source": [
    "def calc_si_steps(num_steps, step_size):\n",
    "    #param_values = saltelli.sample(problem,30)\n",
    "    Y = np.zeros([param_values.shape[0], num_steps//step_size])\n",
    "    \n",
    "    for i in range(0,param_values.shape[0],10):\n",
    "        tuples = []\n",
    "        for tmp, X in enumerate(param_values[i:i+10]):\n",
    "            tuples.append((tmp+i, X, num_steps, step_size))\n",
    "            #print(tmp+i)\n",
    "\n",
    "        ret = v.map_sync(run_model_sensitivity, tuples)\n",
    "        print(\"calc_si_steps: \" + str(i))\n",
    "        residx = 0\n",
    "        for result in ret:\n",
    "            Y[i+residx] = result\n",
    "            residx += 1\n",
    "    \n",
    "    return Y\n",
    "        "
   ]
  },
  {
   "cell_type": "code",
   "execution_count": null,
   "metadata": {},
   "outputs": [
    {
     "name": "stdout",
     "output_type": "stream",
     "text": [
      "calc_si_steps: 0\n",
      "calc_si_steps: 10\n",
      "calc_si_steps: 20\n",
      "calc_si_steps: 30\n",
      "calc_si_steps: 40\n",
      "calc_si_steps: 50\n",
      "calc_si_steps: 60\n",
      "calc_si_steps: 70\n",
      "calc_si_steps: 80\n",
      "calc_si_steps: 90\n",
      "calc_si_steps: 100\n",
      "calc_si_steps: 110\n",
      "calc_si_steps: 120\n",
      "calc_si_steps: 130\n",
      "calc_si_steps: 140\n",
      "calc_si_steps: 150\n",
      "calc_si_steps: 160\n",
      "calc_si_steps: 170\n",
      "calc_si_steps: 180\n",
      "calc_si_steps: 190\n",
      "calc_si_steps: 200\n",
      "calc_si_steps: 210\n",
      "calc_si_steps: 220\n",
      "calc_si_steps: 230\n",
      "calc_si_steps: 240\n",
      "calc_si_steps: 250\n",
      "calc_si_steps: 260\n",
      "calc_si_steps: 270\n",
      "calc_si_steps: 280\n",
      "calc_si_steps: 290\n",
      "calc_si_steps: 300\n",
      "calc_si_steps: 310\n",
      "calc_si_steps: 320\n",
      "calc_si_steps: 330\n",
      "calc_si_steps: 340\n",
      "calc_si_steps: 350\n",
      "calc_si_steps: 360\n",
      "calc_si_steps: 370\n",
      "calc_si_steps: 380\n",
      "calc_si_steps: 390\n",
      "calc_si_steps: 400\n",
      "calc_si_steps: 410\n",
      "calc_si_steps: 420\n",
      "calc_si_steps: 430\n",
      "calc_si_steps: 440\n",
      "calc_si_steps: 450\n",
      "calc_si_steps: 460\n",
      "calc_si_steps: 470\n",
      "calc_si_steps: 480\n",
      "calc_si_steps: 490\n",
      "calc_si_steps: 500\n",
      "calc_si_steps: 510\n",
      "calc_si_steps: 520\n",
      "calc_si_steps: 530\n",
      "calc_si_steps: 540\n",
      "calc_si_steps: 550\n",
      "calc_si_steps: 560\n",
      "calc_si_steps: 570\n",
      "calc_si_steps: 580\n",
      "calc_si_steps: 590\n",
      "calc_si_steps: 600\n",
      "calc_si_steps: 610\n",
      "calc_si_steps: 620\n",
      "calc_si_steps: 630\n",
      "calc_si_steps: 640\n",
      "calc_si_steps: 650\n",
      "calc_si_steps: 660\n",
      "calc_si_steps: 670\n",
      "calc_si_steps: 680\n",
      "calc_si_steps: 690\n",
      "calc_si_steps: 700\n",
      "calc_si_steps: 710\n",
      "calc_si_steps: 720\n",
      "calc_si_steps: 730\n",
      "calc_si_steps: 740\n",
      "calc_si_steps: 750\n",
      "calc_si_steps: 760\n",
      "calc_si_steps: 770\n",
      "calc_si_steps: 780\n",
      "calc_si_steps: 790\n",
      "calc_si_steps: 800\n",
      "calc_si_steps: 810\n",
      "calc_si_steps: 820\n",
      "calc_si_steps: 830\n",
      "calc_si_steps: 840\n",
      "calc_si_steps: 850\n",
      "calc_si_steps: 860\n",
      "calc_si_steps: 870\n",
      "calc_si_steps: 880\n",
      "calc_si_steps: 890\n",
      "calc_si_steps: 900\n",
      "calc_si_steps: 910\n",
      "calc_si_steps: 920\n",
      "calc_si_steps: 930\n",
      "calc_si_steps: 940\n",
      "calc_si_steps: 950\n",
      "calc_si_steps: 960\n",
      "calc_si_steps: 970\n",
      "calc_si_steps: 980\n",
      "calc_si_steps: 990\n",
      "calc_si_steps: 1000\n",
      "calc_si_steps: 1010\n",
      "calc_si_steps: 1020\n",
      "calc_si_steps: 1030\n",
      "calc_si_steps: 1040\n",
      "calc_si_steps: 1050\n",
      "calc_si_steps: 1060\n",
      "calc_si_steps: 1070\n",
      "calc_si_steps: 1080\n",
      "calc_si_steps: 1090\n",
      "calc_si_steps: 1100\n",
      "calc_si_steps: 1110\n",
      "calc_si_steps: 1120\n",
      "calc_si_steps: 1130\n",
      "calc_si_steps: 1140\n",
      "calc_si_steps: 1150\n",
      "calc_si_steps: 1160\n",
      "calc_si_steps: 1170\n",
      "calc_si_steps: 1180\n",
      "calc_si_steps: 1190\n"
     ]
    }
   ],
   "source": [
    "Y = calc_si_steps(300, 10)"
   ]
  },
  {
   "cell_type": "code",
   "execution_count": 95,
   "metadata": {},
   "outputs": [
    {
     "data": {
      "text/plain": [
       "(420, 30)"
      ]
     },
     "execution_count": 95,
     "metadata": {},
     "output_type": "execute_result"
    }
   ],
   "source": [
    "Y.shape"
   ]
  },
  {
   "cell_type": "code",
   "execution_count": 96,
   "metadata": {},
   "outputs": [],
   "source": [
    "Si_list = []\n",
    "for i in range(0,Y.shape[1]):\n",
    "    to_proc = np.zeros([Y.shape[0]])\n",
    "    for j in range(0,Y.shape[0]):\n",
    "        to_proc[j] = Y[j][i]\n",
    "    \n",
    "    Si_list.append((i, sobol.analyze(problem, to_proc)))\n",
    "    "
   ]
  },
  {
   "cell_type": "code",
   "execution_count": null,
   "metadata": {},
   "outputs": [],
   "source": [
    "def print_si():\n",
    "    print(str(problem) + \"\\n\")\n",
    "    for idx, si in Si_list:\n",
    "        print(str(idx) + \": \" + str(si['S1']))"
   ]
  },
  {
   "cell_type": "code",
   "execution_count": 110,
   "metadata": {},
   "outputs": [
    {
     "name": "stdout",
     "output_type": "stream",
     "text": [
      "{'num_vars': 6, 'names': ['density', 'virtuous_homophily', 'num_to_convert', 'convert_prob', 'random_move_prob', 'traditionless_life_decrease'], 'bounds': [[0.2, 0.9], [1, 8], [0.51, 8.49], [0.0001, 0.03], [0.0, 0.1], [0.0, 0.08]]}\n",
      "\n",
      "0: [ 0.44239527  0.08821065 -0.05471192  0.67897558  0.0792922  -0.03831884]\n",
      "1: [ 0.28015534  0.10453195  0.02251902  0.54210545  0.04266303 -0.03769445]\n",
      "2: [0.33508645 0.11335134 0.05183526 0.58127399 0.06572664 0.03622527]\n",
      "3: [0.27581021 0.09313356 0.01091867 0.59976979 0.04214631 0.07445407]\n",
      "4: [ 0.28966353  0.12130453 -0.0124714   0.58072517  0.02212052  0.11874888]\n",
      "5: [ 0.33327514  0.23072128 -0.05315108  0.49148169 -0.00150802  0.14921347]\n",
      "6: [ 0.3486085   0.32982397 -0.0495079   0.40692551 -0.02095548  0.18196   ]\n",
      "7: [ 0.2799509   0.37266154 -0.0747043   0.35518546 -0.0385265   0.21374632]\n",
      "8: [ 0.0645277   0.39071301 -0.0614857   0.31102721 -0.08083592  0.3108073 ]\n",
      "9: [ 0.03263736  0.40610453 -0.04944931  0.291642   -0.07843212  0.32951127]\n",
      "10: [ 0.00639797  0.41448228 -0.05431472  0.27495919 -0.07347122  0.35957175]\n",
      "11: [-1.14057035e-04  4.06411526e-01 -5.13697223e-02  2.56798157e-01\n",
      " -7.26416755e-02  3.95936050e-01]\n",
      "12: [-0.01327424  0.40682685 -0.05119815  0.25167319 -0.09806687  0.41236695]\n",
      "13: [ 0.01722787  0.3922118  -0.06211789  0.24441982 -0.04098496  0.40013679]\n",
      "14: [-0.07669612  0.31136431 -0.16593937  0.16992518 -0.04049382  0.34108627]\n",
      "15: [-0.06601872  0.30034625 -0.0597122   0.16596039 -0.05138286  0.33776189]\n",
      "16: [ 0.00114681  0.22440597 -0.06368192  0.17100763 -0.05490288  0.34419168]\n",
      "17: [ 0.00668007  0.37198225 -0.06617218  0.18040569 -0.05213288  0.35950221]\n",
      "18: [ 0.01547131  0.43342019 -0.06232592  0.18423686 -0.05482058  0.37376593]\n",
      "19: [ 0.02730514  0.35887314 -0.06237291  0.17495829 -0.06100892  0.36722968]\n",
      "20: [ 0.00738008  0.47449951 -0.06710901  0.20816277 -0.03874055  0.3891692 ]\n",
      "21: [ 0.02038744  0.47651292 -0.06483255  0.21423827 -0.04051444  0.40399782]\n",
      "22: [ 0.03513947  0.48670302 -0.06533506  0.21618873 -0.03999026  0.41594287]\n",
      "23: [ 0.03233107  0.48806527 -0.07009282  0.25446316 -0.04110859  0.41879539]\n",
      "24: [ 0.03596288  0.49008004 -0.07112709  0.18448659 -0.0438663   0.41757955]\n",
      "25: [ 0.03694492  0.50301965 -0.07319756  0.14835217 -0.04758731  0.42482977]\n",
      "26: [ 0.02904226  0.51232844 -0.08530588  0.14728684 -0.04913942  0.42867299]\n",
      "27: [ 0.01072623  0.4937684  -0.08662474  0.14526083 -0.05936274  0.42745606]\n",
      "28: [-0.00805709  0.47900623 -0.0993123   0.13534377 -0.07880124  0.41982973]\n",
      "29: [-0.02241437  0.46170506 -0.12422702  0.13349275 -0.08876725  0.41245933]\n"
     ]
    }
   ],
   "source": [
    "print_si()"
   ]
  },
  {
   "cell_type": "code",
   "execution_count": 113,
   "metadata": {},
   "outputs": [],
   "source": [
    "v.clear()\n",
    "c.purge_everything()"
   ]
  },
  {
   "cell_type": "code",
   "execution_count": null,
   "metadata": {},
   "outputs": [],
   "source": [
    "a = b = c = d = e = f = []\n",
    "for idx, si in Si_list:\n",
    "    a.append(si[0])\n",
    "    b.append(si[1])\n",
    "    c.append(si[2])\n",
    "    d.append(si[3])\n",
    "    e.append(si[4])\n",
    "    f.append(si[5])\n",
    "plt.stackplot(range(10,310,10), a,b,c,d,e,f, labels=[\"density\", \"virtuous_homophily\", \"num_to_convert\", \"convert_prob\", \"random_move_prob\", \"traditionless_life_decrease\"])"
   ]
  }
 ],
 "metadata": {
  "kernelspec": {
   "display_name": "Python 3",
   "language": "python",
   "name": "python3"
  },
  "language_info": {
   "codemirror_mode": {
    "name": "ipython",
    "version": 3
   },
   "file_extension": ".py",
   "mimetype": "text/x-python",
   "name": "python",
   "nbconvert_exporter": "python",
   "pygments_lexer": "ipython3",
   "version": "3.6.5"
  }
 },
 "nbformat": 4,
 "nbformat_minor": 2
}
