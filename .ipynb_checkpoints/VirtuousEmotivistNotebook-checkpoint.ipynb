{
 "cells": [
  {
   "cell_type": "code",
   "execution_count": 1,
   "metadata": {},
   "outputs": [],
   "source": [
    "from model import VirtuousEmotivistModel, EmotivistAgent, VirtuousAgent\n",
    "import pandas as pd\n",
    "import numpy as np\n",
    "from ipyparallel import Client\n",
    "import matplotlib.pyplot as plt\n",
    "from SALib.sample import saltelli\n",
    "from SALib.analyze import sobol"
   ]
  },
  {
   "cell_type": "code",
   "execution_count": 2,
   "metadata": {},
   "outputs": [
    {
     "name": "stderr",
     "output_type": "stream",
     "text": [
      "/usr/local/lib/python3.5/dist-packages/ipyparallel/client/client.py:458: RuntimeWarning: \n",
      "            Controller appears to be listening on localhost, but not on this machine.\n",
      "            If this is true, you should specify Client(...,sshserver='you@osboxes')\n",
      "            or instruct your controller to listen on an external IP.\n",
      "  RuntimeWarning)\n"
     ]
    }
   ],
   "source": [
    "c = Client()\n",
    "v = c.load_balanced_view()\n",
    "np.random.seed(0) #seed the generator for deterministic results"
   ]
  },
  {
   "cell_type": "markdown",
   "metadata": {},
   "source": [
    "# Scatter plots and histograms\n",
    "## Start local cluster with \"ipcluster start --n=10\"\n",
    "## Effect of probability of conversion on number of VirtuousAgents at step 300"
   ]
  },
  {
   "cell_type": "code",
   "execution_count": 3,
   "metadata": {},
   "outputs": [],
   "source": [
    "def run_model_300(seed_x_tuple):\n",
    "    from model import VirtuousEmotivistModel, EmotivistAgent, VirtuousAgent\n",
    "    seed, prob_conversion = seed_x_tuple\n",
    "    model = VirtuousEmotivistModel(seed, 25, 25, 0.8, 0.2, 2, 3, 0.01, 8, 1, prob_conversion, 0.98, 0.0, 0.02\\\n",
    "                       , 0.3, 0.4, 0.3, 0.3, 0.4, 0.3, 1.0, 1.0, 1.0, 0.7, 0, 0, 0, 2, 0.75, 'A', 'A', 'A')\n",
    "    while model.running and model.schedule.steps < 300: #run for 300 steps\n",
    "        model.step()\n",
    "    \n",
    "    model_out = model.datacollector.get_model_vars_dataframe()\n",
    "    return model_out['virtuous_count'][300]"
   ]
  },
  {
   "cell_type": "code",
   "execution_count": 4,
   "metadata": {},
   "outputs": [
    {
     "name": "stdout",
     "output_type": "stream",
     "text": [
      "0.0\n",
      "0.0005\n",
      "0.001\n",
      "0.0015\n",
      "0.002\n",
      "0.0025\n",
      "0.003\n",
      "0.0035\n",
      "0.004\n",
      "0.0045000000000000005\n",
      "0.005\n",
      "0.0055\n",
      "0.006\n",
      "0.006500000000000001\n",
      "0.007\n",
      "0.0075\n",
      "0.008\n",
      "0.0085\n",
      "0.009000000000000001\n",
      "0.0095\n",
      "0.01\n",
      "0.0105\n",
      "0.011\n",
      "0.0115\n",
      "0.012\n",
      "0.0125\n",
      "0.013000000000000001\n",
      "0.0135\n",
      "0.014\n",
      "0.0145\n",
      "0.015\n",
      "0.0155\n",
      "0.016\n",
      "0.0165\n",
      "0.017\n",
      "0.0175\n",
      "0.018000000000000002\n",
      "0.0185\n",
      "0.019\n",
      "0.0195\n",
      "0.02\n"
     ]
    }
   ],
   "source": [
    "seed_val = 0\n",
    "list_x = []\n",
    "list_y = []\n",
    "for x in np.arange(0.0, 0.0205, 0.0005):\n",
    "    tuples = []\n",
    "    for seed in range(seed_val, seed_val + 10):\n",
    "        tuples.append((seed, x))\n",
    "    ret = v.map(run_model_300, tuples)\n",
    "    for val in ret:\n",
    "        list_x.append(x)\n",
    "        list_y.append(val)\n",
    "    print(str(x))\n",
    "    seed_val += 10"
   ]
  },
  {
   "cell_type": "code",
   "execution_count": 6,
   "metadata": {},
   "outputs": [],
   "source": [
    "pd.set_option('display.max_rows', 350)"
   ]
  },
  {
   "cell_type": "code",
   "execution_count": 9,
   "metadata": {},
   "outputs": [],
   "source": [
    "plt.style.use('seaborn-whitegrid')\n",
    "plt.rcParams['figure.figsize'] = [14, 10]"
   ]
  },
  {
   "cell_type": "code",
   "execution_count": 10,
   "metadata": {},
   "outputs": [
    {
     "data": {
      "image/png": "[encoded data removed]",
      "text/plain": [
       "<Figure size 1008x720 with 1 Axes>"
      ]
     },
     "metadata": {},
     "output_type": "display_data"
    }
   ],
   "source": [
    "plt.plot(list_x, list_y, 'o', color='blue', markersize=3);\n",
    "plt.show()"
   ]
  },
  {
   "cell_type": "markdown",
   "metadata": {},
   "source": [
    "---\n",
    "### Effect of count_extra_det (number of extra-determined agents with belief A) on count of all A-believing agents\n",
    "#### count_extra_det does not increase the overall number of A-believing agents in the beginning"
   ]
  },
  {
   "cell_type": "code",
   "execution_count": 11,
   "metadata": {},
   "outputs": [],
   "source": [
    "def run_model_300_det(seed_x_tuple):\n",
    "    from model import VirtuousEmotivistModel, EmotivistAgent, VirtuousAgent\n",
    "    seed, det = seed_x_tuple\n",
    "    model = VirtuousEmotivistModel(seed, 25, 25, 0.8, 0.0, 3, 3, 0.01, 8, 1, 0.0, 0.98, 0.0, 0.02\\\n",
    "                       , 0.3, 0.4, 0.3, 0.3, 0.4, 0.3, 1.0, 1.0, 1.0, 0.7, 0, det, 0, 2, 0.75, 'A', 'A', 'A')\n",
    "    while model.running and model.schedule.steps < 300: #run for 300 steps\n",
    "        model.step()\n",
    "    \n",
    "    df = model.datacollector.agent_vars[\"strongest_belief\"][-1]\n",
    "    count = 0\n",
    "    for tup in df:\n",
    "        num, belief = tup\n",
    "        if belief == 'A':\n",
    "            count += 1\n",
    "    return count"
   ]
  },
  {
   "cell_type": "code",
   "execution_count": 12,
   "metadata": {
    "scrolled": true
   },
   "outputs": [
    {
     "name": "stdout",
     "output_type": "stream",
     "text": [
      "0\n",
      "1\n",
      "2\n",
      "3\n",
      "4\n",
      "5\n",
      "6\n",
      "7\n",
      "8\n",
      "9\n",
      "10\n",
      "11\n",
      "12\n",
      "13\n",
      "14\n",
      "15\n",
      "16\n",
      "17\n",
      "18\n",
      "19\n",
      "20\n",
      "21\n",
      "22\n",
      "23\n",
      "24\n",
      "25\n",
      "26\n",
      "27\n",
      "28\n",
      "29\n",
      "30\n",
      "31\n",
      "32\n",
      "33\n",
      "34\n",
      "35\n",
      "36\n",
      "37\n",
      "38\n",
      "39\n",
      "40\n",
      "41\n",
      "42\n",
      "43\n",
      "44\n",
      "45\n",
      "46\n",
      "47\n",
      "48\n",
      "49\n",
      "50\n",
      "51\n",
      "52\n",
      "53\n",
      "54\n",
      "55\n",
      "56\n",
      "57\n",
      "58\n",
      "59\n",
      "60\n",
      "61\n",
      "62\n",
      "63\n",
      "64\n",
      "65\n",
      "66\n",
      "67\n",
      "68\n",
      "69\n"
     ]
    }
   ],
   "source": [
    "seed_val = 0\n",
    "list_x_det = []\n",
    "list_y_det = []\n",
    "for x in np.arange(0, 70):\n",
    "    tuples = []\n",
    "    for seed in range(seed_val, seed_val + 10):\n",
    "        tuples.append((seed, x))\n",
    "    ret = v.map(run_model_300_det, tuples)\n",
    "    for val in ret:\n",
    "        list_x_det.append(x)\n",
    "        list_y_det.append(val)\n",
    "    print(str(x))\n",
    "    seed_val += 10"
   ]
  },
  {
   "cell_type": "code",
   "execution_count": 13,
   "metadata": {
    "scrolled": true
   },
   "outputs": [
    {
     "data": {
      "image/png": "[encoded data removed]",
      "text/plain": [
       "<Figure size 1008x720 with 1 Axes>"
      ]
     },
     "metadata": {},
     "output_type": "display_data"
    }
   ],
   "source": [
    "plt.plot(list_x_det, list_y_det, 'o', color='blue', markersize=3);"
   ]
  },
  {
   "cell_type": "markdown",
   "metadata": {},
   "source": [
    "---\n",
    "### Effect of count_extra_pow (number of extra-powerful agents with belief A) on count of all A-believing agents\n",
    "#### count_extra_pow does not increase the overall number of A-believing agents in the beginning"
   ]
  },
  {
   "cell_type": "code",
   "execution_count": null,
   "metadata": {},
   "outputs": [],
   "source": [
    "def run_model_300_emo_power(seed_x_tuple):\n",
    "    from model import VirtuousEmotivistModel, EmotivistAgent, VirtuousAgent\n",
    "    seed, power = seed_x_tuple\n",
    "    model = VirtuousEmotivistModel(seed, 25, 25, 0.8, 0.0, 4, 4, 0.01, 8, 0, 0.0, 0.98, 0.0, 0.02\\\n",
    "                       , 0.3, 0.4, 0.3, 0.3, 0.4, 0.3, 1.0, 1.0, 1.0, 0.7, power, 0, 0, 2, 0.75, 'A', 'A', 'A')\n",
    "    #only emotivists\n",
    "    while model.running and model.schedule.steps < 300: #run for 300 steps\n",
    "        model.step()\n",
    "    \n",
    "    df = model.datacollector.agent_vars[\"strongest_belief\"][-1]\n",
    "    count = 0\n",
    "    for tup in df:\n",
    "        num, belief = tup\n",
    "        if belief == 'A':\n",
    "            count += 1\n",
    "    return count"
   ]
  },
  {
   "cell_type": "code",
   "execution_count": null,
   "metadata": {},
   "outputs": [],
   "source": [
    "seed_val = 0\n",
    "list_x_pow = []\n",
    "list_y_pow = []\n",
    "for x in np.arange(0, 70):\n",
    "    tuples = []\n",
    "    for seed in range(seed_val, seed_val + 10):\n",
    "        tuples.append((seed, x))\n",
    "    ret = v.map(run_model_300_emo_power, tuples)\n",
    "    for val in ret:\n",
    "        list_x_pow.append(x)\n",
    "        list_y_pow.append(val)\n",
    "    print(str(x))\n",
    "    seed_val += 10"
   ]
  },
  {
   "cell_type": "code",
   "execution_count": null,
   "metadata": {},
   "outputs": [],
   "source": [
    "plt.plot(list_x_pow, list_y_pow, 'o', color='blue', markersize=3);\n"
   ]
  },
  {
   "cell_type": "markdown",
   "metadata": {},
   "source": [
    "---\n",
    "### Effect of homophily on count of B-believing (majority) agents. No VirtuousAgents at all"
   ]
  },
  {
   "cell_type": "code",
   "execution_count": null,
   "metadata": {},
   "outputs": [],
   "source": [
    "def run_model_300_homophily(seed_x_tuple):\n",
    "    from model import VirtuousEmotivistModel, EmotivistAgent, VirtuousAgent\n",
    "    seed, homophily = seed_x_tuple\n",
    "    model = VirtuousEmotivistModel(seed, 25, 25, 0.8, 0.0, homophily, 2, 0.01, 8, 0, 0.0, 0.98, 0.0, 0.025\\\n",
    "                       , 0.3, 0.4, 0.3, 0.3, 0.4, 0.3, 1.0, 1.0, 1.0, 0.7, 0, 0, 0, 2, 0.75, 'A', 'A', 'A')\n",
    "    #has no virtuousagents\n",
    "    #effect of homophily on count of B (majority)\n",
    "    while model.running and model.schedule.steps < 300: #run for 300 steps\n",
    "        model.step()\n",
    "    \n",
    "    df = model.datacollector.agent_vars[\"strongest_belief\"][-1]\n",
    "    count = 0\n",
    "    for tup in df:\n",
    "        num, belief = tup\n",
    "        if belief == 'B':\n",
    "            count += 1\n",
    "    return count"
   ]
  },
  {
   "cell_type": "code",
   "execution_count": null,
   "metadata": {},
   "outputs": [],
   "source": [
    "seed_val = 0\n",
    "list_x_homophily = []\n",
    "list_y_homophily = []\n",
    "for x in np.arange(0, 9):\n",
    "    tuples = []\n",
    "    for seed in range(seed_val, seed_val + 50):\n",
    "        tuples.append((seed, x))\n",
    "    ret = v.map(run_model_300_homophily, tuples)\n",
    "    for val in ret:\n",
    "        list_x_homophily.append(x)\n",
    "        list_y_homophily.append(val)\n",
    "    print(str(x))\n",
    "    seed_val += 100 #offset should not affect results"
   ]
  },
  {
   "cell_type": "code",
   "execution_count": null,
   "metadata": {},
   "outputs": [],
   "source": [
    "plt.plot(list_x_homophily, list_y_homophily, 'o', color='blue', markersize=3);"
   ]
  },
  {
   "cell_type": "markdown",
   "metadata": {},
   "source": [
    "## Effect of num_of_detpow with belief A on count of A at step 100, with random move prob of 0.0125"
   ]
  },
  {
   "cell_type": "code",
   "execution_count": 15,
   "metadata": {},
   "outputs": [],
   "source": [
    "def run_model_100_randommove_detpow(seed_x_tuple):\n",
    "    from model import VirtuousEmotivistModel, EmotivistAgent, VirtuousAgent\n",
    "    seed, num_of_detpow = seed_x_tuple\n",
    "    model = VirtuousEmotivistModel(seed, 25, 25, 0.8, 0.0, 4, 2, 0.01, 8, 0, 0.0, 0.98, 0.0125, 0.025\\\n",
    "                       , 0.3, 0.4, 0.3, 0.32, 0.36, 0.32, 1.0, 1.0, 1.0, 0.7, 0, 0, num_of_detpow, 2, 0.75, 'A', 'A', 'A')\n",
    "    #only emotivist agents with homophily=4\n",
    "    #effect of num_of_detpow with belief A on count of A at step 100, with random move prob of 0.0125\n",
    "    #closer starting distribution of 0.32,0.36,0.32\n",
    "    # 100 steps shows results in the short term\n",
    "    while model.running and model.schedule.steps < 100: #run for 100 steps\n",
    "        model.step()\n",
    "    \n",
    "    df = model.datacollector.agent_vars[\"strongest_belief\"][-1]\n",
    "    count = 0\n",
    "    for tup in df:\n",
    "        num, belief = tup\n",
    "        if belief == 'A':\n",
    "            count += 1\n",
    "    return count"
   ]
  },
  {
   "cell_type": "code",
   "execution_count": 16,
   "metadata": {},
   "outputs": [
    {
     "name": "stdout",
     "output_type": "stream",
     "text": [
      "0\n",
      "1\n",
      "2\n",
      "3\n",
      "4\n",
      "5\n",
      "6\n",
      "7\n",
      "8\n",
      "9\n",
      "10\n",
      "11\n",
      "12\n",
      "13\n",
      "14\n",
      "15\n",
      "16\n",
      "17\n",
      "18\n",
      "19\n",
      "20\n",
      "21\n",
      "22\n",
      "23\n",
      "24\n",
      "25\n",
      "26\n",
      "27\n",
      "28\n",
      "29\n",
      "30\n",
      "31\n",
      "32\n",
      "33\n",
      "34\n",
      "35\n",
      "36\n",
      "37\n",
      "38\n",
      "39\n",
      "40\n",
      "41\n",
      "42\n",
      "43\n",
      "44\n",
      "45\n",
      "46\n",
      "47\n",
      "48\n",
      "49\n"
     ]
    }
   ],
   "source": [
    "seed_val = 0\n",
    "list_x_detpow1 = []\n",
    "list_y_detpow1 = []\n",
    "for x in np.arange(0, 50):\n",
    "    tuples = []\n",
    "    for seed in range(seed_val, seed_val + 10):\n",
    "        tuples.append((seed, x))\n",
    "    ret = v.map(run_model_100_randommove_detpow, tuples)\n",
    "    for val in ret:\n",
    "        list_x_detpow1.append(x)\n",
    "        list_y_detpow1.append(val)\n",
    "    print(str(x))\n",
    "    seed_val += 10 #accidental offset should not affect results"
   ]
  },
  {
   "cell_type": "code",
   "execution_count": 17,
   "metadata": {},
   "outputs": [
    {
     "data": {
      "image/png": "[encoded data removed]",
      "text/plain": [
       "<Figure size 1008x720 with 1 Axes>"
      ]
     },
     "metadata": {},
     "output_type": "display_data"
    }
   ],
   "source": [
    "plt.plot(list_x_detpow1, list_y_detpow1, 'o', color='blue', markersize=3);"
   ]
  },
  {
   "cell_type": "code",
   "execution_count": 18,
   "metadata": {},
   "outputs": [
    {
     "data": {
      "image/png": "[encoded data removed]",
      "text/plain": [
       "<Figure size 1008x720 with 1 Axes>"
      ]
     },
     "metadata": {},
     "output_type": "display_data"
    }
   ],
   "source": [
    "plt.hist(list_y_detpow1, bins=100);"
   ]
  },
  {
   "cell_type": "markdown",
   "metadata": {},
   "source": [
    "### Effect of num_of_detpow with belief A on count of A at step 200, with random move prob of 0.0125"
   ]
  },
  {
   "cell_type": "code",
   "execution_count": 19,
   "metadata": {},
   "outputs": [],
   "source": [
    "def run_model_200_randommove_detpow(seed_x_tuple):\n",
    "    from model import VirtuousEmotivistModel, EmotivistAgent, VirtuousAgent\n",
    "    seed, num_of_detpow = seed_x_tuple\n",
    "    model = VirtuousEmotivistModel(seed, 25, 25, 0.8, 0.0, 4, 2, 0.01, 8, 0, 0.0, 0.98, 0.0125, 0.025\\\n",
    "                       , 0.3, 0.4, 0.3, 0.32, 0.36, 0.32, 1.0, 1.0, 1.0, 0.7, 0, 0, num_of_detpow, 2, 0.75, 'A', 'A', 'A')\n",
    "    #only emotivist agents with homophily=4\n",
    "    #effect of num_of_detpow with belief A on count of A at step 200, with random move prob of 0.0125\n",
    "    #closer starting distribution of 0.32,0.36,0.32\n",
    "    #for longer step sizes (in the long run), the model will tend to attract towards A (because of extra detpow) or B (because of starting majority)\n",
    "    while model.running and model.schedule.steps < 200: #run for 200 steps\n",
    "        model.step()\n",
    "    \n",
    "    df = model.datacollector.agent_vars[\"strongest_belief\"][-1]\n",
    "    count = 0\n",
    "    for tup in df:\n",
    "        num, belief = tup\n",
    "        if belief == 'A':\n",
    "            count += 1\n",
    "    return count"
   ]
  },
  {
   "cell_type": "code",
   "execution_count": 20,
   "metadata": {},
   "outputs": [
    {
     "name": "stdout",
     "output_type": "stream",
     "text": [
      "0\n",
      "1\n",
      "2\n",
      "3\n",
      "4\n",
      "5\n",
      "6\n",
      "7\n",
      "8\n",
      "9\n",
      "10\n",
      "11\n",
      "12\n",
      "13\n",
      "14\n",
      "15\n",
      "16\n",
      "17\n",
      "18\n",
      "19\n",
      "20\n",
      "21\n",
      "22\n",
      "23\n",
      "24\n",
      "25\n",
      "26\n",
      "27\n",
      "28\n",
      "29\n",
      "30\n",
      "31\n",
      "32\n",
      "33\n",
      "34\n",
      "35\n",
      "36\n",
      "37\n",
      "38\n",
      "39\n",
      "40\n",
      "41\n",
      "42\n",
      "43\n",
      "44\n",
      "45\n",
      "46\n",
      "47\n",
      "48\n",
      "49\n"
     ]
    }
   ],
   "source": [
    "seed_val = 0\n",
    "list_x_detpow2 = []\n",
    "list_y_detpow2 = []\n",
    "for x in np.arange(0, 50):\n",
    "    tuples = []\n",
    "    for seed in range(seed_val, seed_val + 10):\n",
    "        tuples.append((seed, x))\n",
    "    ret = v.map(run_model_200_randommove_detpow, tuples)\n",
    "    for val in ret:\n",
    "        list_x_detpow2.append(x)\n",
    "        list_y_detpow2.append(val)\n",
    "    print(str(x))\n",
    "    seed_val += 10 #accidental offset should not affect results"
   ]
  },
  {
   "cell_type": "code",
   "execution_count": 21,
   "metadata": {},
   "outputs": [
    {
     "data": {
      "image/png": "[encoded data removed]",
      "text/plain": [
       "<Figure size 1008x720 with 1 Axes>"
      ]
     },
     "metadata": {},
     "output_type": "display_data"
    }
   ],
   "source": [
    "plt.plot(list_x_detpow2, list_y_detpow2, 'o', color='blue', markersize=3);"
   ]
  },
  {
   "cell_type": "code",
   "execution_count": 22,
   "metadata": {},
   "outputs": [
    {
     "data": {
      "image/png": "[encoded data removed]",
      "text/plain": [
       "<Figure size 1008x720 with 1 Axes>"
      ]
     },
     "metadata": {},
     "output_type": "display_data"
    }
   ],
   "source": [
    "plt.hist(list_y_detpow2, bins=100);"
   ]
  },
  {
   "cell_type": "code",
   "execution_count": 23,
   "metadata": {},
   "outputs": [
    {
     "name": "stdout",
     "output_type": "stream",
     "text": [
      "Stored 'list_x' (list)\n",
      "Stored 'list_y' (list)\n",
      "Stored 'list_x_det' (list)\n",
      "Stored 'list_y_det' (list)\n",
      "Stored 'list_x_detpow1' (list)\n",
      "Stored 'list_y_detpow1' (list)\n",
      "Stored 'list_x_detpow2' (list)\n",
      "Stored 'list_y_detpow2' (list)\n"
     ]
    }
   ],
   "source": [
    "%store list_x\n",
    "%store list_y\n",
    "%store list_x_det\n",
    "%store list_y_det\n",
    "%store list_x_detpow1\n",
    "%store list_y_detpow1\n",
    "%store list_x_detpow2\n",
    "%store list_y_detpow2"
   ]
  },
  {
   "cell_type": "markdown",
   "metadata": {},
   "source": [
    "## Sensitivity analysis:\n",
    "#### Effect of multiple parameters on proportion of VirtuousAgents at each step 0...300"
   ]
  },
  {
   "cell_type": "code",
   "execution_count": 25,
   "metadata": {},
   "outputs": [],
   "source": [
    "problem = {\n",
    "    'num_vars': 7,\n",
    "    'names': ['density', 'virtuous_homophily', 'num_to_convert', 'convert_prob', 'random_move_prob',\n",
    "             'traditionless_life_decrease', 'random_seed'],\n",
    "    'bounds': [[0.2,0.9],[1,8],[0.51,8.49],[0.0001, 0.03],[0.0,0.1],[0.0,0.08],[0,500000]]\n",
    "}"
   ]
  },
  {
   "cell_type": "code",
   "execution_count": 22,
   "metadata": {},
   "outputs": [
    {
     "data": {
      "text/plain": [
       "(2080, 7)"
      ]
     },
     "execution_count": 22,
     "metadata": {},
     "output_type": "execute_result"
    }
   ],
   "source": [
    "param_values = saltelli.sample(problem,130)\n",
    "param_values.shape"
   ]
  },
  {
   "cell_type": "code",
   "execution_count": 23,
   "metadata": {},
   "outputs": [],
   "source": [
    "def run_model_sensitivity(seed_x_tuple):\n",
    "    from model import VirtuousEmotivistModel, EmotivistAgent, VirtuousAgent\n",
    "    import numpy as np\n",
    "    seed, X, num_steps, step_size = seed_x_tuple\n",
    "    model = VirtuousEmotivistModel(int(X[6]), 25, 25, X[0], 0.2, 4, int(round(X[1])), 0.01, 8, int(round(X[2])), X[3], 0.98, X[4], X[5]\\\n",
    "                       , 0.3, 0.4, 0.3, 0.3, 0.4, 0.3, 1.0, 1.0, 1.0, 0.7, 0, 0, 0, 2, 0.75, 'A', 'A', 'A')\n",
    "    #effect of multiple parameters on proportion of virtuousagents\n",
    "    \n",
    "    virtuous_pc = []\n",
    "    i=0\n",
    "    while model.running and model.schedule.steps < num_steps: #run for n steps\n",
    "        model.step()\n",
    "        if (model.schedule.steps in range(0, num_steps+step_size, step_size)):\n",
    "            model_out = model.datacollector.get_model_vars_dataframe()\n",
    "            if (model.schedule.get_agent_count() > 0):\n",
    "                virtuous_pc.append(model_out['virtuous_count'][model.schedule.steps] / float(model.schedule.get_agent_count()))\n",
    "            else:\n",
    "                virtuous_pc.append(0.0)\n",
    "            i += 1\n",
    "    \n",
    "    return virtuous_pc"
   ]
  },
  {
   "cell_type": "code",
   "execution_count": null,
   "metadata": {},
   "outputs": [],
   "source": []
  },
  {
   "cell_type": "code",
   "execution_count": 24,
   "metadata": {},
   "outputs": [],
   "source": [
    "def calc_si_steps(num_steps, step_size):\n",
    "    #param_values = saltelli.sample(problem,30)\n",
    "    Y = np.zeros([param_values.shape[0], num_steps//step_size])\n",
    "    \n",
    "    for i in range(0,param_values.shape[0],10):\n",
    "        tuples = []\n",
    "        for tmp, X in enumerate(param_values[i:i+10]):\n",
    "            tuples.append((tmp+i, X, num_steps, step_size))\n",
    "            #print(tmp+i)\n",
    "\n",
    "        ret = v.map_sync(run_model_sensitivity, tuples)\n",
    "        print(\"calc_si_steps: \" + str(i))\n",
    "        residx = 0\n",
    "        for result in ret:\n",
    "            Y[i+residx] = result\n",
    "            residx += 1\n",
    "    \n",
    "    return Y\n",
    "        "
   ]
  },
  {
   "cell_type": "code",
   "execution_count": 25,
   "metadata": {},
   "outputs": [
    {
     "name": "stdout",
     "output_type": "stream",
     "text": [
      "calc_si_steps: 0\n",
      "calc_si_steps: 10\n",
      "calc_si_steps: 20\n",
      "calc_si_steps: 30\n",
      "calc_si_steps: 40\n",
      "calc_si_steps: 50\n",
      "calc_si_steps: 60\n",
      "calc_si_steps: 70\n",
      "calc_si_steps: 80\n",
      "calc_si_steps: 90\n",
      "calc_si_steps: 100\n",
      "calc_si_steps: 110\n",
      "calc_si_steps: 120\n",
      "calc_si_steps: 130\n",
      "calc_si_steps: 140\n",
      "calc_si_steps: 150\n",
      "calc_si_steps: 160\n",
      "calc_si_steps: 170\n",
      "calc_si_steps: 180\n",
      "calc_si_steps: 190\n",
      "calc_si_steps: 200\n",
      "calc_si_steps: 210\n",
      "calc_si_steps: 220\n",
      "calc_si_steps: 230\n",
      "calc_si_steps: 240\n",
      "calc_si_steps: 250\n",
      "calc_si_steps: 260\n",
      "calc_si_steps: 270\n",
      "calc_si_steps: 280\n",
      "calc_si_steps: 290\n",
      "calc_si_steps: 300\n",
      "calc_si_steps: 310\n",
      "calc_si_steps: 320\n",
      "calc_si_steps: 330\n",
      "calc_si_steps: 340\n",
      "calc_si_steps: 350\n",
      "calc_si_steps: 360\n",
      "calc_si_steps: 370\n",
      "calc_si_steps: 380\n",
      "calc_si_steps: 390\n",
      "calc_si_steps: 400\n",
      "calc_si_steps: 410\n",
      "calc_si_steps: 420\n",
      "calc_si_steps: 430\n",
      "calc_si_steps: 440\n",
      "calc_si_steps: 450\n",
      "calc_si_steps: 460\n",
      "calc_si_steps: 470\n",
      "calc_si_steps: 480\n",
      "calc_si_steps: 490\n",
      "calc_si_steps: 500\n",
      "calc_si_steps: 510\n",
      "calc_si_steps: 520\n",
      "calc_si_steps: 530\n",
      "calc_si_steps: 540\n",
      "calc_si_steps: 550\n",
      "calc_si_steps: 560\n",
      "calc_si_steps: 570\n",
      "calc_si_steps: 580\n",
      "calc_si_steps: 590\n",
      "calc_si_steps: 600\n",
      "calc_si_steps: 610\n",
      "calc_si_steps: 620\n",
      "calc_si_steps: 630\n",
      "calc_si_steps: 640\n",
      "calc_si_steps: 650\n",
      "calc_si_steps: 660\n",
      "calc_si_steps: 670\n",
      "calc_si_steps: 680\n",
      "calc_si_steps: 690\n",
      "calc_si_steps: 700\n",
      "calc_si_steps: 710\n",
      "calc_si_steps: 720\n",
      "calc_si_steps: 730\n",
      "calc_si_steps: 740\n",
      "calc_si_steps: 750\n",
      "calc_si_steps: 760\n",
      "calc_si_steps: 770\n",
      "calc_si_steps: 780\n",
      "calc_si_steps: 790\n",
      "calc_si_steps: 800\n",
      "calc_si_steps: 810\n",
      "calc_si_steps: 820\n",
      "calc_si_steps: 830\n",
      "calc_si_steps: 840\n",
      "calc_si_steps: 850\n",
      "calc_si_steps: 860\n",
      "calc_si_steps: 870\n",
      "calc_si_steps: 880\n",
      "calc_si_steps: 890\n",
      "calc_si_steps: 900\n",
      "calc_si_steps: 910\n",
      "calc_si_steps: 920\n",
      "calc_si_steps: 930\n",
      "calc_si_steps: 940\n",
      "calc_si_steps: 950\n",
      "calc_si_steps: 960\n",
      "calc_si_steps: 970\n",
      "calc_si_steps: 980\n",
      "calc_si_steps: 990\n",
      "calc_si_steps: 1000\n",
      "calc_si_steps: 1010\n",
      "calc_si_steps: 1020\n",
      "calc_si_steps: 1030\n",
      "calc_si_steps: 1040\n",
      "calc_si_steps: 1050\n",
      "calc_si_steps: 1060\n",
      "calc_si_steps: 1070\n",
      "calc_si_steps: 1080\n",
      "calc_si_steps: 1090\n",
      "calc_si_steps: 1100\n",
      "calc_si_steps: 1110\n",
      "calc_si_steps: 1120\n",
      "calc_si_steps: 1130\n",
      "calc_si_steps: 1140\n",
      "calc_si_steps: 1150\n",
      "calc_si_steps: 1160\n",
      "calc_si_steps: 1170\n",
      "calc_si_steps: 1180\n",
      "calc_si_steps: 1190\n",
      "calc_si_steps: 1200\n",
      "calc_si_steps: 1210\n",
      "calc_si_steps: 1220\n",
      "calc_si_steps: 1230\n",
      "calc_si_steps: 1240\n",
      "calc_si_steps: 1250\n",
      "calc_si_steps: 1260\n",
      "calc_si_steps: 1270\n",
      "calc_si_steps: 1280\n",
      "calc_si_steps: 1290\n",
      "calc_si_steps: 1300\n",
      "calc_si_steps: 1310\n",
      "calc_si_steps: 1320\n",
      "calc_si_steps: 1330\n",
      "calc_si_steps: 1340\n",
      "calc_si_steps: 1350\n",
      "calc_si_steps: 1360\n",
      "calc_si_steps: 1370\n",
      "calc_si_steps: 1380\n",
      "calc_si_steps: 1390\n",
      "calc_si_steps: 1400\n",
      "calc_si_steps: 1410\n",
      "calc_si_steps: 1420\n",
      "calc_si_steps: 1430\n",
      "calc_si_steps: 1440\n",
      "calc_si_steps: 1450\n",
      "calc_si_steps: 1460\n",
      "calc_si_steps: 1470\n",
      "calc_si_steps: 1480\n",
      "calc_si_steps: 1490\n",
      "calc_si_steps: 1500\n",
      "calc_si_steps: 1510\n",
      "calc_si_steps: 1520\n",
      "calc_si_steps: 1530\n",
      "calc_si_steps: 1540\n",
      "calc_si_steps: 1550\n",
      "calc_si_steps: 1560\n",
      "calc_si_steps: 1570\n",
      "calc_si_steps: 1580\n",
      "calc_si_steps: 1590\n",
      "calc_si_steps: 1600\n",
      "calc_si_steps: 1610\n",
      "calc_si_steps: 1620\n",
      "calc_si_steps: 1630\n",
      "calc_si_steps: 1640\n",
      "calc_si_steps: 1650\n",
      "calc_si_steps: 1660\n",
      "calc_si_steps: 1670\n",
      "calc_si_steps: 1680\n",
      "calc_si_steps: 1690\n",
      "calc_si_steps: 1700\n",
      "calc_si_steps: 1710\n",
      "calc_si_steps: 1720\n",
      "calc_si_steps: 1730\n",
      "calc_si_steps: 1740\n",
      "calc_si_steps: 1750\n",
      "calc_si_steps: 1760\n",
      "calc_si_steps: 1770\n",
      "calc_si_steps: 1780\n",
      "calc_si_steps: 1790\n",
      "calc_si_steps: 1800\n",
      "calc_si_steps: 1810\n",
      "calc_si_steps: 1820\n",
      "calc_si_steps: 1830\n",
      "calc_si_steps: 1840\n",
      "calc_si_steps: 1850\n",
      "calc_si_steps: 1860\n",
      "calc_si_steps: 1870\n",
      "calc_si_steps: 1880\n",
      "calc_si_steps: 1890\n",
      "calc_si_steps: 1900\n",
      "calc_si_steps: 1910\n",
      "calc_si_steps: 1920\n",
      "calc_si_steps: 1930\n",
      "calc_si_steps: 1940\n",
      "calc_si_steps: 1950\n",
      "calc_si_steps: 1960\n",
      "calc_si_steps: 1970\n",
      "calc_si_steps: 1980\n",
      "calc_si_steps: 1990\n",
      "calc_si_steps: 2000\n",
      "calc_si_steps: 2010\n",
      "calc_si_steps: 2020\n",
      "calc_si_steps: 2030\n",
      "calc_si_steps: 2040\n",
      "calc_si_steps: 2050\n",
      "calc_si_steps: 2060\n",
      "calc_si_steps: 2070\n"
     ]
    }
   ],
   "source": [
    "Y = calc_si_steps(300, 1)"
   ]
  },
  {
   "cell_type": "code",
   "execution_count": 26,
   "metadata": {},
   "outputs": [
    {
     "data": {
      "text/plain": [
       "(2080, 300)"
      ]
     },
     "execution_count": 26,
     "metadata": {},
     "output_type": "execute_result"
    }
   ],
   "source": [
    "Y.shape"
   ]
  },
  {
   "cell_type": "code",
   "execution_count": 28,
   "metadata": {},
   "outputs": [],
   "source": [
    "Si_list = []\n",
    "for i in range(0,Y.shape[1]):\n",
    "    to_proc = np.zeros([Y.shape[0]])\n",
    "    for j in range(0,Y.shape[0]):\n",
    "        to_proc[j] = Y[j][i]\n",
    "    \n",
    "    Si_list.append((i, sobol.analyze(problem, to_proc)))\n",
    "    "
   ]
  },
  {
   "cell_type": "code",
   "execution_count": null,
   "metadata": {},
   "outputs": [],
   "source": [
    "def print_si():\n",
    "    print(str(problem) + \"\\n\")\n",
    "    for idx, si in Si_list:\n",
    "        print(str(idx) + \": \" + str(si['S1']))"
   ]
  },
  {
   "cell_type": "code",
   "execution_count": null,
   "metadata": {},
   "outputs": [],
   "source": [
    "print_si()"
   ]
  },
  {
   "cell_type": "code",
   "execution_count": null,
   "metadata": {},
   "outputs": [],
   "source": [
    "v.clear()\n",
    "c.purge_everything()"
   ]
  },
  {
   "cell_type": "code",
   "execution_count": 26,
   "metadata": {},
   "outputs": [
    {
     "name": "stdout",
     "output_type": "stream",
     "text": [
      "[[], [], [], [], [], [], []]\n"
     ]
    },
    {
     "ename": "NameError",
     "evalue": "name 'Si_list' is not defined",
     "output_type": "error",
     "traceback": [
      "\u001b[0;31m---------------------------------------------------------------------------\u001b[0m",
      "\u001b[0;31mNameError\u001b[0m                                 Traceback (most recent call last)",
      "\u001b[0;32m<ipython-input-26-7e6e62fada71>\u001b[0m in \u001b[0;36m<module>\u001b[0;34m()\u001b[0m\n\u001b[1;32m      2\u001b[0m \u001b[0mprint\u001b[0m\u001b[0;34m(\u001b[0m\u001b[0mans\u001b[0m\u001b[0;34m)\u001b[0m\u001b[0;34m\u001b[0m\u001b[0m\n\u001b[1;32m      3\u001b[0m \u001b[0;34m\u001b[0m\u001b[0m\n\u001b[0;32m----> 4\u001b[0;31m \u001b[0;32mfor\u001b[0m \u001b[0midx\u001b[0m\u001b[0;34m,\u001b[0m \u001b[0msi\u001b[0m \u001b[0;32min\u001b[0m \u001b[0mSi_list\u001b[0m\u001b[0;34m:\u001b[0m\u001b[0;34m\u001b[0m\u001b[0m\n\u001b[0m\u001b[1;32m      5\u001b[0m     \u001b[0;31m#print(si['S1'])\u001b[0m\u001b[0;34m\u001b[0m\u001b[0;34m\u001b[0m\u001b[0m\n\u001b[1;32m      6\u001b[0m     \u001b[0;32mfor\u001b[0m \u001b[0mi\u001b[0m \u001b[0;32min\u001b[0m \u001b[0mrange\u001b[0m\u001b[0;34m(\u001b[0m\u001b[0;36m0\u001b[0m\u001b[0;34m,\u001b[0m\u001b[0mlen\u001b[0m\u001b[0;34m(\u001b[0m\u001b[0msi\u001b[0m\u001b[0;34m[\u001b[0m\u001b[0;34m'S1'\u001b[0m\u001b[0;34m]\u001b[0m\u001b[0;34m)\u001b[0m\u001b[0;34m)\u001b[0m\u001b[0;34m:\u001b[0m\u001b[0;34m\u001b[0m\u001b[0m\n",
      "\u001b[0;31mNameError\u001b[0m: name 'Si_list' is not defined"
     ]
    }
   ],
   "source": [
    "ans = [[] for _ in range(0,problem['num_vars'])]\n",
    "print(ans)\n",
    "\n",
    "for idx, si in Si_list:\n",
    "    #print(si['S1'])\n",
    "    for i in range(0,len(si['S1'])):\n",
    "        #print(val)\n",
    "        #print(si['S1'][i])\n",
    "        ans[i].append(si['S1'][i])\n",
    "        #if (i == 0):\n",
    "        #    print(\"app\")\n",
    "        #print(i)\n",
    "    #print(idx)\n",
    "    #if (idx == 2):\n",
    "    #    print(ans)\n",
    "\n",
    "print(len(ans[0]))\n",
    "ans = np.array(ans)\n",
    "print(ans.shape)\n",
    "plt.style.use('seaborn-whitegrid')\n",
    "plt.rcParams['figure.figsize'] = [18, 11]\n",
    "plt.stackplot(range(0,300), np.asarray(ans), labels=[\"density\", \"virtuous_homophily\", \"num_to_convert\", \"convert_prob\", \"random_move_prob\", \"traditionless_life_decrease\", \"random_seed\"])\n",
    "plt.legend(loc=0,bbox_to_anchor=(1.17,1.0))"
   ]
  },
  {
   "cell_type": "markdown",
   "metadata": {},
   "source": [
    "---\n",
    "### Effect of multiple parameters on proportion of A-believing EmotivistAgents at each step 0...300\n",
    "#### No VirtuousAgents"
   ]
  },
  {
   "cell_type": "code",
   "execution_count": 9,
   "metadata": {},
   "outputs": [
    {
     "data": {
      "text/plain": [
       "(2000, 9)"
      ]
     },
     "execution_count": 9,
     "metadata": {},
     "output_type": "execute_result"
    }
   ],
   "source": [
    "np.random.seed(1)\n",
    "problem2 = {\n",
    "    'num_vars': 9,\n",
    "    'names': ['random_seed', 'density', 'homophily', 'nudge_amount', 'num_to_argue', 'random_move_prob',\\\n",
    "              'strongest_belief_weight', 'count_extra_pow', 'count_extra_det'],\n",
    "    'bounds': [[0,500000],[0.2,0.95],[0.55,8.45],[0.001,0.1],[0.55,8.45],[0.0, 0.1],[0.4,0.95],[0,150],[0,150]]\n",
    "}\n",
    "param_values2 = saltelli.sample(problem2,100)\n",
    "param_values2.shape"
   ]
  },
  {
   "cell_type": "code",
   "execution_count": 10,
   "metadata": {},
   "outputs": [],
   "source": [
    "def run_model_sensitivity2(seed_x_tuple):\n",
    "    from model import VirtuousEmotivistModel, EmotivistAgent, VirtuousAgent\n",
    "    import numpy as np\n",
    "    seed, X, num_steps, step_size = seed_x_tuple\n",
    "    model = VirtuousEmotivistModel(int(X[0]), 25, 25, X[1], 0.0, int(round(X[2])), 4, X[3], int(round(X[4])), 0, 0.0, 0.98, X[5]\\\n",
    "            , 0.0, 0.3, 0.4, 0.3, 0.3, 0.4, 0.3, 1.0, 1.0, 1.0, X[6], int(round(X[7])), int(round(X[8])), 0, 2, 0.75, 'A', 'A', 'A')\n",
    "    #effect of multiple parameters on proportion of virtuousagents\n",
    "    #0.0% emotivist agents\n",
    "    a_belief_count = []\n",
    "    i=0\n",
    "    while model.running and model.schedule.steps < num_steps: #run for n steps\n",
    "        model.step()\n",
    "        if (model.schedule.steps in range(0, num_steps+step_size, step_size)):\n",
    "            df = model.datacollector.agent_vars[\"strongest_belief\"][-1]\n",
    "            count = 0\n",
    "            for tup in df:\n",
    "                num, belief = tup\n",
    "                if belief == 'A':\n",
    "                    count += 1\n",
    "            a_belief_count.append(count)\n",
    "            i += 1\n",
    "    \n",
    "    return a_belief_count"
   ]
  },
  {
   "cell_type": "code",
   "execution_count": 11,
   "metadata": {},
   "outputs": [],
   "source": [
    "def calc_si_steps2(num_steps, step_size):\n",
    "    #param_values = saltelli.sample(problem,30)\n",
    "    Y = np.zeros([param_values2.shape[0], num_steps//step_size])\n",
    "    \n",
    "    for i in range(0,param_values2.shape[0],10):\n",
    "        #c = Client()\n",
    "        #v = c.load_balanced_view()\n",
    "        tuples = []\n",
    "        for tmp, X in enumerate(param_values2[i:i+10]):\n",
    "            tuples.append((tmp+i, X, num_steps, step_size)) #seed unused\n",
    "            #print(tmp+i)\n",
    "\n",
    "        ret = v.map_sync(run_model_sensitivity2, tuples, balanced=True)\n",
    "        print(\"calc_si_steps2: \" + str(i))\n",
    "        residx = 0\n",
    "        for result in ret:\n",
    "            Y[i+residx] = result\n",
    "            residx += 1\n",
    "        #c.purge_everything()\n",
    "        #c.close()\n",
    "        #del v\n",
    "        #del c\n",
    "    return Y"
   ]
  },
  {
   "cell_type": "code",
   "execution_count": 12,
   "metadata": {},
   "outputs": [
    {
     "name": "stdout",
     "output_type": "stream",
     "text": [
      "calc_si_steps2: 0\n",
      "calc_si_steps2: 10\n",
      "calc_si_steps2: 20\n",
      "calc_si_steps2: 30\n",
      "calc_si_steps2: 40\n",
      "calc_si_steps2: 50\n",
      "calc_si_steps2: 60\n",
      "calc_si_steps2: 70\n",
      "calc_si_steps2: 80\n",
      "calc_si_steps2: 90\n",
      "calc_si_steps2: 100\n",
      "calc_si_steps2: 110\n",
      "calc_si_steps2: 120\n",
      "calc_si_steps2: 130\n",
      "calc_si_steps2: 140\n",
      "calc_si_steps2: 150\n",
      "calc_si_steps2: 160\n",
      "calc_si_steps2: 170\n",
      "calc_si_steps2: 180\n",
      "calc_si_steps2: 190\n",
      "calc_si_steps2: 200\n",
      "calc_si_steps2: 210\n",
      "calc_si_steps2: 220\n",
      "calc_si_steps2: 230\n",
      "calc_si_steps2: 240\n",
      "calc_si_steps2: 250\n",
      "calc_si_steps2: 260\n",
      "calc_si_steps2: 270\n",
      "calc_si_steps2: 280\n",
      "calc_si_steps2: 290\n",
      "calc_si_steps2: 300\n",
      "calc_si_steps2: 310\n",
      "calc_si_steps2: 320\n",
      "calc_si_steps2: 330\n",
      "calc_si_steps2: 340\n",
      "calc_si_steps2: 350\n",
      "calc_si_steps2: 360\n",
      "calc_si_steps2: 370\n",
      "calc_si_steps2: 380\n",
      "calc_si_steps2: 390\n",
      "calc_si_steps2: 400\n",
      "calc_si_steps2: 410\n",
      "calc_si_steps2: 420\n",
      "calc_si_steps2: 430\n",
      "calc_si_steps2: 440\n",
      "calc_si_steps2: 450\n",
      "calc_si_steps2: 460\n",
      "calc_si_steps2: 470\n",
      "calc_si_steps2: 480\n",
      "calc_si_steps2: 490\n",
      "calc_si_steps2: 500\n",
      "calc_si_steps2: 510\n",
      "calc_si_steps2: 520\n",
      "calc_si_steps2: 530\n",
      "calc_si_steps2: 540\n",
      "calc_si_steps2: 550\n",
      "calc_si_steps2: 560\n",
      "calc_si_steps2: 570\n",
      "calc_si_steps2: 580\n",
      "calc_si_steps2: 590\n",
      "calc_si_steps2: 600\n",
      "calc_si_steps2: 610\n",
      "calc_si_steps2: 620\n",
      "calc_si_steps2: 630\n",
      "calc_si_steps2: 640\n",
      "calc_si_steps2: 650\n",
      "calc_si_steps2: 660\n",
      "calc_si_steps2: 670\n",
      "calc_si_steps2: 680\n",
      "calc_si_steps2: 690\n",
      "calc_si_steps2: 700\n",
      "calc_si_steps2: 710\n",
      "calc_si_steps2: 720\n",
      "calc_si_steps2: 730\n",
      "calc_si_steps2: 740\n",
      "calc_si_steps2: 750\n",
      "calc_si_steps2: 760\n",
      "calc_si_steps2: 770\n",
      "calc_si_steps2: 780\n",
      "calc_si_steps2: 790\n",
      "calc_si_steps2: 800\n",
      "calc_si_steps2: 810\n",
      "calc_si_steps2: 820\n",
      "calc_si_steps2: 830\n",
      "calc_si_steps2: 840\n",
      "calc_si_steps2: 850\n",
      "calc_si_steps2: 860\n",
      "calc_si_steps2: 870\n",
      "calc_si_steps2: 880\n",
      "calc_si_steps2: 890\n",
      "calc_si_steps2: 900\n",
      "calc_si_steps2: 910\n",
      "calc_si_steps2: 920\n",
      "calc_si_steps2: 930\n",
      "calc_si_steps2: 940\n",
      "calc_si_steps2: 950\n",
      "calc_si_steps2: 960\n",
      "calc_si_steps2: 970\n",
      "calc_si_steps2: 980\n",
      "calc_si_steps2: 990\n",
      "calc_si_steps2: 1000\n",
      "calc_si_steps2: 1010\n",
      "calc_si_steps2: 1020\n",
      "calc_si_steps2: 1030\n",
      "calc_si_steps2: 1040\n",
      "calc_si_steps2: 1050\n",
      "calc_si_steps2: 1060\n",
      "calc_si_steps2: 1070\n",
      "calc_si_steps2: 1080\n",
      "calc_si_steps2: 1090\n",
      "calc_si_steps2: 1100\n",
      "calc_si_steps2: 1110\n",
      "calc_si_steps2: 1120\n",
      "calc_si_steps2: 1130\n",
      "calc_si_steps2: 1140\n",
      "calc_si_steps2: 1150\n",
      "calc_si_steps2: 1160\n",
      "calc_si_steps2: 1170\n",
      "calc_si_steps2: 1180\n",
      "calc_si_steps2: 1190\n",
      "calc_si_steps2: 1200\n",
      "calc_si_steps2: 1210\n",
      "calc_si_steps2: 1220\n",
      "calc_si_steps2: 1230\n",
      "calc_si_steps2: 1240\n",
      "calc_si_steps2: 1250\n",
      "calc_si_steps2: 1260\n",
      "calc_si_steps2: 1270\n",
      "calc_si_steps2: 1280\n",
      "calc_si_steps2: 1290\n",
      "calc_si_steps2: 1300\n",
      "calc_si_steps2: 1310\n",
      "calc_si_steps2: 1320\n",
      "calc_si_steps2: 1330\n",
      "calc_si_steps2: 1340\n",
      "calc_si_steps2: 1350\n",
      "calc_si_steps2: 1360\n",
      "calc_si_steps2: 1370\n",
      "calc_si_steps2: 1380\n",
      "calc_si_steps2: 1390\n",
      "calc_si_steps2: 1400\n",
      "calc_si_steps2: 1410\n",
      "calc_si_steps2: 1420\n",
      "calc_si_steps2: 1430\n",
      "calc_si_steps2: 1440\n",
      "calc_si_steps2: 1450\n",
      "calc_si_steps2: 1460\n",
      "calc_si_steps2: 1470\n",
      "calc_si_steps2: 1480\n",
      "calc_si_steps2: 1490\n",
      "calc_si_steps2: 1500\n",
      "calc_si_steps2: 1510\n",
      "calc_si_steps2: 1520\n",
      "calc_si_steps2: 1530\n",
      "calc_si_steps2: 1540\n",
      "calc_si_steps2: 1550\n",
      "calc_si_steps2: 1560\n",
      "calc_si_steps2: 1570\n",
      "calc_si_steps2: 1580\n",
      "calc_si_steps2: 1590\n",
      "calc_si_steps2: 1600\n",
      "calc_si_steps2: 1610\n",
      "calc_si_steps2: 1620\n",
      "calc_si_steps2: 1630\n",
      "calc_si_steps2: 1640\n",
      "calc_si_steps2: 1650\n",
      "calc_si_steps2: 1660\n",
      "calc_si_steps2: 1670\n",
      "calc_si_steps2: 1680\n",
      "calc_si_steps2: 1690\n",
      "calc_si_steps2: 1700\n",
      "calc_si_steps2: 1710\n",
      "calc_si_steps2: 1720\n",
      "calc_si_steps2: 1730\n",
      "calc_si_steps2: 1740\n",
      "calc_si_steps2: 1750\n",
      "calc_si_steps2: 1760\n",
      "calc_si_steps2: 1770\n",
      "calc_si_steps2: 1780\n",
      "calc_si_steps2: 1790\n",
      "calc_si_steps2: 1800\n",
      "calc_si_steps2: 1810\n",
      "calc_si_steps2: 1820\n",
      "calc_si_steps2: 1830\n",
      "calc_si_steps2: 1840\n",
      "calc_si_steps2: 1850\n",
      "calc_si_steps2: 1860\n",
      "calc_si_steps2: 1870\n",
      "calc_si_steps2: 1880\n",
      "calc_si_steps2: 1890\n",
      "calc_si_steps2: 1900\n",
      "calc_si_steps2: 1910\n",
      "calc_si_steps2: 1920\n",
      "calc_si_steps2: 1930\n",
      "calc_si_steps2: 1940\n",
      "calc_si_steps2: 1950\n",
      "calc_si_steps2: 1960\n",
      "calc_si_steps2: 1970\n",
      "calc_si_steps2: 1980\n",
      "calc_si_steps2: 1990\n"
     ]
    }
   ],
   "source": [
    "Y2 = calc_si_steps2(300,1)"
   ]
  },
  {
   "cell_type": "code",
   "execution_count": null,
   "metadata": {},
   "outputs": [],
   "source": []
  },
  {
   "cell_type": "code",
   "execution_count": 27,
   "metadata": {},
   "outputs": [
    {
     "name": "stdout",
     "output_type": "stream",
     "text": [
      "Stored 'Y2' (ndarray)\n",
      "Stored 'Y' (ndarray)\n"
     ]
    }
   ],
   "source": [
    "#stores:\n",
    "%store Y2\n",
    "%store Y\n",
    "%store problem\n",
    "%store problem2\n",
    "#%store Y"
   ]
  },
  {
   "cell_type": "code",
   "execution_count": 14,
   "metadata": {},
   "outputs": [],
   "source": [
    "Si_list2 = []\n",
    "for i in range(0,Y2.shape[1]):\n",
    "    to_proc = np.zeros([Y2.shape[0]])\n",
    "    for j in range(0,Y2.shape[0]):\n",
    "        to_proc[j] = Y2[j][i]\n",
    "    \n",
    "    Si_list2.append((i, sobol.analyze(problem2, to_proc)))"
   ]
  },
  {
   "cell_type": "code",
   "execution_count": 59,
   "metadata": {},
   "outputs": [
    {
     "name": "stdout",
     "output_type": "stream",
     "text": [
      "[[], [], [], [], [], [], [], [], []]\n",
      "300\n",
      "(9, 300)\n"
     ]
    },
    {
     "data": {
      "text/plain": [
       "<matplotlib.legend.Legend at 0x7f147819a550>"
      ]
     },
     "execution_count": 59,
     "metadata": {},
     "output_type": "execute_result"
    },
    {
     "data": {
      "image/png": "[encoded data removed]",
      "text/plain": [
       "<Figure size 1296x792 with 1 Axes>"
      ]
     },
     "metadata": {},
     "output_type": "display_data"
    }
   ],
   "source": [
    "ans = [[] for _ in range(0,problem2['num_vars'])]\n",
    "print(ans)\n",
    "\n",
    "for idx, si in Si_list2:\n",
    "    #print(si['S1'])\n",
    "    for i in range(0,len(si['ST'])):\n",
    "        #print(val)\n",
    "        #print(si['S1'][i])\n",
    "        ans[i].append(si['ST'][i])\n",
    "        #if (i == 0):\n",
    "        #    print(\"app\")\n",
    "        #print(i)\n",
    "    #print(idx)\n",
    "    #if (idx == 2):\n",
    "    #    print(ans)\n",
    "\n",
    "print(len(ans[0]))\n",
    "ans = np.array(ans)\n",
    "print(ans.shape)\n",
    "plt.style.use('seaborn-whitegrid')\n",
    "plt.rcParams['figure.figsize'] = [18, 11]\n",
    "plt.stackplot(range(0,300), np.asarray(ans), labels=['random_seed', 'density', 'homophily', 'nudge_amount', 'num_to_argue', 'random_move_prob', 'strongest_belief_weight', 'count_extra_pow', 'count_extra_det'])\n",
    "plt.legend(loc=0,bbox_to_anchor=(1.15,1.0))"
   ]
  },
  {
   "cell_type": "code",
   "execution_count": null,
   "metadata": {},
   "outputs": [],
   "source": [
    "%store -d Y2"
   ]
  },
  {
   "cell_type": "code",
   "execution_count": null,
   "metadata": {},
   "outputs": [],
   "source": []
  }
 ],
 "metadata": {
  "kernelspec": {
   "display_name": "Python 3",
   "language": "python",
   "name": "python3"
  },
  "language_info": {
   "codemirror_mode": {
    "name": "ipython",
    "version": 3
   },
   "file_extension": ".py",
   "mimetype": "text/x-python",
   "name": "python",
   "nbconvert_exporter": "python",
   "pygments_lexer": "ipython3",
   "version": "3.5.2"
  }
 },
 "nbformat": 4,
 "nbformat_minor": 2
}
